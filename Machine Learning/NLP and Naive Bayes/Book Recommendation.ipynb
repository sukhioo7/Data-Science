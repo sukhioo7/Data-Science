{
 "cells": [
  {
   "cell_type": "code",
   "execution_count": 1,
   "id": "05a0a7a6-edb3-40ef-b5fd-70b417c0c0d4",
   "metadata": {},
   "outputs": [],
   "source": [
    "import pandas as pd\n",
    "import numpy as np\n",
    "import matplotlib.pyplot as plt\n",
    "import plotly.express as plx"
   ]
  },
  {
   "cell_type": "code",
   "execution_count": 2,
   "id": "290efba7-a75a-4299-b15b-02664ad0fa08",
   "metadata": {},
   "outputs": [],
   "source": [
    "books_data = pd.read_csv(r\"C:\\Users\\Sukh-e\\Desktop\\Classes\\Data Science class\\NumPY\\Python 10\\ML\\Books_data.csv\")"
   ]
  },
  {
   "cell_type": "code",
   "execution_count": 3,
   "id": "6335bcdf-a32e-4056-95ef-c0799a342d28",
   "metadata": {},
   "outputs": [
    {
     "data": {
      "text/html": [
       "<div>\n",
       "<style scoped>\n",
       "    .dataframe tbody tr th:only-of-type {\n",
       "        vertical-align: middle;\n",
       "    }\n",
       "\n",
       "    .dataframe tbody tr th {\n",
       "        vertical-align: top;\n",
       "    }\n",
       "\n",
       "    .dataframe thead th {\n",
       "        text-align: right;\n",
       "    }\n",
       "</style>\n",
       "<table border=\"1\" class=\"dataframe\">\n",
       "  <thead>\n",
       "    <tr style=\"text-align: right;\">\n",
       "      <th></th>\n",
       "      <th>bookId</th>\n",
       "      <th>title</th>\n",
       "      <th>series</th>\n",
       "      <th>author</th>\n",
       "      <th>rating</th>\n",
       "      <th>description</th>\n",
       "      <th>language</th>\n",
       "      <th>isbn</th>\n",
       "      <th>genres</th>\n",
       "      <th>characters</th>\n",
       "      <th>...</th>\n",
       "      <th>firstPublishDate</th>\n",
       "      <th>awards</th>\n",
       "      <th>numRatings</th>\n",
       "      <th>ratingsByStars</th>\n",
       "      <th>likedPercent</th>\n",
       "      <th>setting</th>\n",
       "      <th>coverImg</th>\n",
       "      <th>bbeScore</th>\n",
       "      <th>bbeVotes</th>\n",
       "      <th>price</th>\n",
       "    </tr>\n",
       "  </thead>\n",
       "  <tbody>\n",
       "    <tr>\n",
       "      <th>0</th>\n",
       "      <td>2767052-the-hunger-games</td>\n",
       "      <td>The Hunger Games</td>\n",
       "      <td>The Hunger Games #1</td>\n",
       "      <td>Suzanne Collins</td>\n",
       "      <td>4.33</td>\n",
       "      <td>WINNING MEANS FAME AND FORTUNE.LOSING MEANS CE...</td>\n",
       "      <td>English</td>\n",
       "      <td>9780439023481</td>\n",
       "      <td>['Young Adult', 'Fiction', 'Dystopia', 'Fantas...</td>\n",
       "      <td>['Katniss Everdeen', 'Peeta Mellark', 'Cato (H...</td>\n",
       "      <td>...</td>\n",
       "      <td>NaN</td>\n",
       "      <td>['Locus Award Nominee for Best Young Adult Boo...</td>\n",
       "      <td>6376780</td>\n",
       "      <td>['3444695', '1921313', '745221', '171994', '93...</td>\n",
       "      <td>96.0</td>\n",
       "      <td>['District 12, Panem', 'Capitol, Panem', 'Pane...</td>\n",
       "      <td>https://i.gr-assets.com/images/S/compressed.ph...</td>\n",
       "      <td>2993816</td>\n",
       "      <td>30516</td>\n",
       "      <td>5.09</td>\n",
       "    </tr>\n",
       "    <tr>\n",
       "      <th>1</th>\n",
       "      <td>2.Harry_Potter_and_the_Order_of_the_Phoenix</td>\n",
       "      <td>Harry Potter and the Order of the Phoenix</td>\n",
       "      <td>Harry Potter #5</td>\n",
       "      <td>J.K. Rowling, Mary GrandPré (Illustrator)</td>\n",
       "      <td>4.50</td>\n",
       "      <td>There is a door at the end of a silent corrido...</td>\n",
       "      <td>English</td>\n",
       "      <td>9780439358071</td>\n",
       "      <td>['Fantasy', 'Young Adult', 'Fiction', 'Magic',...</td>\n",
       "      <td>['Sirius Black', 'Draco Malfoy', 'Ron Weasley'...</td>\n",
       "      <td>...</td>\n",
       "      <td>06/21/03</td>\n",
       "      <td>['Bram Stoker Award for Works for Young Reader...</td>\n",
       "      <td>2507623</td>\n",
       "      <td>['1593642', '637516', '222366', '39573', '14526']</td>\n",
       "      <td>98.0</td>\n",
       "      <td>['Hogwarts School of Witchcraft and Wizardry (...</td>\n",
       "      <td>https://i.gr-assets.com/images/S/compressed.ph...</td>\n",
       "      <td>2632233</td>\n",
       "      <td>26923</td>\n",
       "      <td>7.38</td>\n",
       "    </tr>\n",
       "    <tr>\n",
       "      <th>2</th>\n",
       "      <td>2657.To_Kill_a_Mockingbird</td>\n",
       "      <td>To Kill a Mockingbird</td>\n",
       "      <td>To Kill a Mockingbird</td>\n",
       "      <td>Harper Lee</td>\n",
       "      <td>4.28</td>\n",
       "      <td>The unforgettable novel of a childhood in a sl...</td>\n",
       "      <td>English</td>\n",
       "      <td>9999999999999</td>\n",
       "      <td>['Classics', 'Fiction', 'Historical Fiction', ...</td>\n",
       "      <td>['Scout Finch', 'Atticus Finch', 'Jem Finch', ...</td>\n",
       "      <td>...</td>\n",
       "      <td>07/11/60</td>\n",
       "      <td>['Pulitzer Prize for Fiction (1961)', 'Audie A...</td>\n",
       "      <td>4501075</td>\n",
       "      <td>['2363896', '1333153', '573280', '149952', '80...</td>\n",
       "      <td>95.0</td>\n",
       "      <td>['Maycomb, Alabama (United States)']</td>\n",
       "      <td>https://i.gr-assets.com/images/S/compressed.ph...</td>\n",
       "      <td>2269402</td>\n",
       "      <td>23328</td>\n",
       "      <td>NaN</td>\n",
       "    </tr>\n",
       "    <tr>\n",
       "      <th>3</th>\n",
       "      <td>1885.Pride_and_Prejudice</td>\n",
       "      <td>Pride and Prejudice</td>\n",
       "      <td>NaN</td>\n",
       "      <td>Jane Austen, Anna Quindlen (Introduction)</td>\n",
       "      <td>4.26</td>\n",
       "      <td>Alternate cover edition of ISBN 9780679783268S...</td>\n",
       "      <td>English</td>\n",
       "      <td>9999999999999</td>\n",
       "      <td>['Classics', 'Fiction', 'Romance', 'Historical...</td>\n",
       "      <td>['Mr. Bennet', 'Mrs. Bennet', 'Jane Bennet', '...</td>\n",
       "      <td>...</td>\n",
       "      <td>01/28/13</td>\n",
       "      <td>[]</td>\n",
       "      <td>2998241</td>\n",
       "      <td>['1617567', '816659', '373311', '113934', '767...</td>\n",
       "      <td>94.0</td>\n",
       "      <td>['United Kingdom', 'Derbyshire, England (Unite...</td>\n",
       "      <td>https://i.gr-assets.com/images/S/compressed.ph...</td>\n",
       "      <td>1983116</td>\n",
       "      <td>20452</td>\n",
       "      <td>NaN</td>\n",
       "    </tr>\n",
       "    <tr>\n",
       "      <th>4</th>\n",
       "      <td>41865.Twilight</td>\n",
       "      <td>Twilight</td>\n",
       "      <td>The Twilight Saga #1</td>\n",
       "      <td>Stephenie Meyer</td>\n",
       "      <td>3.60</td>\n",
       "      <td>About three things I was absolutely positive.\\...</td>\n",
       "      <td>English</td>\n",
       "      <td>9780316015844</td>\n",
       "      <td>['Young Adult', 'Fantasy', 'Romance', 'Vampire...</td>\n",
       "      <td>['Edward Cullen', 'Jacob Black', 'Laurent', 'R...</td>\n",
       "      <td>...</td>\n",
       "      <td>10/05/05</td>\n",
       "      <td>['Georgia Peach Book Award (2007)', 'Buxtehude...</td>\n",
       "      <td>4964519</td>\n",
       "      <td>['1751460', '1113682', '1008686', '542017', '5...</td>\n",
       "      <td>78.0</td>\n",
       "      <td>['Forks, Washington (United States)', 'Phoenix...</td>\n",
       "      <td>https://i.gr-assets.com/images/S/compressed.ph...</td>\n",
       "      <td>1459448</td>\n",
       "      <td>14874</td>\n",
       "      <td>2.1</td>\n",
       "    </tr>\n",
       "  </tbody>\n",
       "</table>\n",
       "<p>5 rows × 25 columns</p>\n",
       "</div>"
      ],
      "text/plain": [
       "                                        bookId  \\\n",
       "0                     2767052-the-hunger-games   \n",
       "1  2.Harry_Potter_and_the_Order_of_the_Phoenix   \n",
       "2                   2657.To_Kill_a_Mockingbird   \n",
       "3                     1885.Pride_and_Prejudice   \n",
       "4                               41865.Twilight   \n",
       "\n",
       "                                       title                 series  \\\n",
       "0                           The Hunger Games    The Hunger Games #1   \n",
       "1  Harry Potter and the Order of the Phoenix        Harry Potter #5   \n",
       "2                      To Kill a Mockingbird  To Kill a Mockingbird   \n",
       "3                        Pride and Prejudice                    NaN   \n",
       "4                                   Twilight   The Twilight Saga #1   \n",
       "\n",
       "                                      author  rating  \\\n",
       "0                            Suzanne Collins    4.33   \n",
       "1  J.K. Rowling, Mary GrandPré (Illustrator)    4.50   \n",
       "2                                 Harper Lee    4.28   \n",
       "3  Jane Austen, Anna Quindlen (Introduction)    4.26   \n",
       "4                            Stephenie Meyer    3.60   \n",
       "\n",
       "                                         description language           isbn  \\\n",
       "0  WINNING MEANS FAME AND FORTUNE.LOSING MEANS CE...  English  9780439023481   \n",
       "1  There is a door at the end of a silent corrido...  English  9780439358071   \n",
       "2  The unforgettable novel of a childhood in a sl...  English  9999999999999   \n",
       "3  Alternate cover edition of ISBN 9780679783268S...  English  9999999999999   \n",
       "4  About three things I was absolutely positive.\\...  English  9780316015844   \n",
       "\n",
       "                                              genres  \\\n",
       "0  ['Young Adult', 'Fiction', 'Dystopia', 'Fantas...   \n",
       "1  ['Fantasy', 'Young Adult', 'Fiction', 'Magic',...   \n",
       "2  ['Classics', 'Fiction', 'Historical Fiction', ...   \n",
       "3  ['Classics', 'Fiction', 'Romance', 'Historical...   \n",
       "4  ['Young Adult', 'Fantasy', 'Romance', 'Vampire...   \n",
       "\n",
       "                                          characters  ... firstPublishDate  \\\n",
       "0  ['Katniss Everdeen', 'Peeta Mellark', 'Cato (H...  ...              NaN   \n",
       "1  ['Sirius Black', 'Draco Malfoy', 'Ron Weasley'...  ...         06/21/03   \n",
       "2  ['Scout Finch', 'Atticus Finch', 'Jem Finch', ...  ...         07/11/60   \n",
       "3  ['Mr. Bennet', 'Mrs. Bennet', 'Jane Bennet', '...  ...         01/28/13   \n",
       "4  ['Edward Cullen', 'Jacob Black', 'Laurent', 'R...  ...         10/05/05   \n",
       "\n",
       "                                              awards numRatings  \\\n",
       "0  ['Locus Award Nominee for Best Young Adult Boo...    6376780   \n",
       "1  ['Bram Stoker Award for Works for Young Reader...    2507623   \n",
       "2  ['Pulitzer Prize for Fiction (1961)', 'Audie A...    4501075   \n",
       "3                                                 []    2998241   \n",
       "4  ['Georgia Peach Book Award (2007)', 'Buxtehude...    4964519   \n",
       "\n",
       "                                      ratingsByStars likedPercent  \\\n",
       "0  ['3444695', '1921313', '745221', '171994', '93...         96.0   \n",
       "1  ['1593642', '637516', '222366', '39573', '14526']         98.0   \n",
       "2  ['2363896', '1333153', '573280', '149952', '80...         95.0   \n",
       "3  ['1617567', '816659', '373311', '113934', '767...         94.0   \n",
       "4  ['1751460', '1113682', '1008686', '542017', '5...         78.0   \n",
       "\n",
       "                                             setting  \\\n",
       "0  ['District 12, Panem', 'Capitol, Panem', 'Pane...   \n",
       "1  ['Hogwarts School of Witchcraft and Wizardry (...   \n",
       "2               ['Maycomb, Alabama (United States)']   \n",
       "3  ['United Kingdom', 'Derbyshire, England (Unite...   \n",
       "4  ['Forks, Washington (United States)', 'Phoenix...   \n",
       "\n",
       "                                            coverImg  bbeScore bbeVotes  price  \n",
       "0  https://i.gr-assets.com/images/S/compressed.ph...   2993816    30516   5.09  \n",
       "1  https://i.gr-assets.com/images/S/compressed.ph...   2632233    26923   7.38  \n",
       "2  https://i.gr-assets.com/images/S/compressed.ph...   2269402    23328    NaN  \n",
       "3  https://i.gr-assets.com/images/S/compressed.ph...   1983116    20452    NaN  \n",
       "4  https://i.gr-assets.com/images/S/compressed.ph...   1459448    14874    2.1  \n",
       "\n",
       "[5 rows x 25 columns]"
      ]
     },
     "execution_count": 3,
     "metadata": {},
     "output_type": "execute_result"
    }
   ],
   "source": [
    "books_data.head()"
   ]
  },
  {
   "cell_type": "code",
   "execution_count": 4,
   "id": "9cd9107b-3e8c-472b-ae25-61eec673e475",
   "metadata": {},
   "outputs": [
    {
     "name": "stdout",
     "output_type": "stream",
     "text": [
      "<class 'pandas.core.frame.DataFrame'>\n",
      "RangeIndex: 52478 entries, 0 to 52477\n",
      "Data columns (total 25 columns):\n",
      " #   Column            Non-Null Count  Dtype  \n",
      "---  ------            --------------  -----  \n",
      " 0   bookId            52478 non-null  object \n",
      " 1   title             52478 non-null  object \n",
      " 2   series            23470 non-null  object \n",
      " 3   author            52478 non-null  object \n",
      " 4   rating            52478 non-null  float64\n",
      " 5   description       51140 non-null  object \n",
      " 6   language          48672 non-null  object \n",
      " 7   isbn              52478 non-null  object \n",
      " 8   genres            52478 non-null  object \n",
      " 9   characters        52478 non-null  object \n",
      " 10  bookFormat        51005 non-null  object \n",
      " 11  edition           4955 non-null   object \n",
      " 12  pages             50131 non-null  object \n",
      " 13  publisher         48782 non-null  object \n",
      " 14  publishDate       51598 non-null  object \n",
      " 15  firstPublishDate  31152 non-null  object \n",
      " 16  awards            52478 non-null  object \n",
      " 17  numRatings        52478 non-null  int64  \n",
      " 18  ratingsByStars    52478 non-null  object \n",
      " 19  likedPercent      51856 non-null  float64\n",
      " 20  setting           52478 non-null  object \n",
      " 21  coverImg          51873 non-null  object \n",
      " 22  bbeScore          52478 non-null  int64  \n",
      " 23  bbeVotes          52478 non-null  int64  \n",
      " 24  price             38113 non-null  object \n",
      "dtypes: float64(2), int64(3), object(20)\n",
      "memory usage: 10.0+ MB\n"
     ]
    }
   ],
   "source": [
    "books_data.info()"
   ]
  },
  {
   "cell_type": "code",
   "execution_count": 5,
   "id": "1387e957-94e5-4bd6-98c5-2f5688b06100",
   "metadata": {},
   "outputs": [
    {
     "data": {
      "text/plain": [
       "bookId                  0\n",
       "title                   0\n",
       "series              29008\n",
       "author                  0\n",
       "rating                  0\n",
       "description          1338\n",
       "language             3806\n",
       "isbn                    0\n",
       "genres                  0\n",
       "characters              0\n",
       "bookFormat           1473\n",
       "edition             47523\n",
       "pages                2347\n",
       "publisher            3696\n",
       "publishDate           880\n",
       "firstPublishDate    21326\n",
       "awards                  0\n",
       "numRatings              0\n",
       "ratingsByStars          0\n",
       "likedPercent          622\n",
       "setting                 0\n",
       "coverImg              605\n",
       "bbeScore                0\n",
       "bbeVotes                0\n",
       "price               14365\n",
       "dtype: int64"
      ]
     },
     "execution_count": 5,
     "metadata": {},
     "output_type": "execute_result"
    }
   ],
   "source": [
    "books_data.isnull().sum()"
   ]
  },
  {
   "cell_type": "code",
   "execution_count": 6,
   "id": "7fa0268e-e358-4c41-8823-0eedae96b1a2",
   "metadata": {},
   "outputs": [
    {
     "data": {
      "text/plain": [
       "Index(['bookId', 'title', 'series', 'author', 'rating', 'description',\n",
       "       'language', 'isbn', 'genres', 'characters', 'bookFormat', 'edition',\n",
       "       'pages', 'publisher', 'publishDate', 'firstPublishDate', 'awards',\n",
       "       'numRatings', 'ratingsByStars', 'likedPercent', 'setting', 'coverImg',\n",
       "       'bbeScore', 'bbeVotes', 'price'],\n",
       "      dtype='object')"
      ]
     },
     "execution_count": 6,
     "metadata": {},
     "output_type": "execute_result"
    }
   ],
   "source": [
    "books_data.columns"
   ]
  },
  {
   "cell_type": "code",
   "execution_count": 7,
   "id": "a5e46ef6-fc4f-4dff-9317-6e7c875c6bca",
   "metadata": {},
   "outputs": [],
   "source": [
    "books_data = books_data[['title','author','description','language','genres','pages','awards','likedPercent']]"
   ]
  },
  {
   "cell_type": "code",
   "execution_count": 8,
   "id": "a2d065e9-4504-408a-9b5e-c38c93b361c3",
   "metadata": {},
   "outputs": [
    {
     "data": {
      "text/html": [
       "<div>\n",
       "<style scoped>\n",
       "    .dataframe tbody tr th:only-of-type {\n",
       "        vertical-align: middle;\n",
       "    }\n",
       "\n",
       "    .dataframe tbody tr th {\n",
       "        vertical-align: top;\n",
       "    }\n",
       "\n",
       "    .dataframe thead th {\n",
       "        text-align: right;\n",
       "    }\n",
       "</style>\n",
       "<table border=\"1\" class=\"dataframe\">\n",
       "  <thead>\n",
       "    <tr style=\"text-align: right;\">\n",
       "      <th></th>\n",
       "      <th>title</th>\n",
       "      <th>author</th>\n",
       "      <th>description</th>\n",
       "      <th>language</th>\n",
       "      <th>genres</th>\n",
       "      <th>pages</th>\n",
       "      <th>awards</th>\n",
       "      <th>likedPercent</th>\n",
       "    </tr>\n",
       "  </thead>\n",
       "  <tbody>\n",
       "    <tr>\n",
       "      <th>0</th>\n",
       "      <td>The Hunger Games</td>\n",
       "      <td>Suzanne Collins</td>\n",
       "      <td>WINNING MEANS FAME AND FORTUNE.LOSING MEANS CE...</td>\n",
       "      <td>English</td>\n",
       "      <td>['Young Adult', 'Fiction', 'Dystopia', 'Fantas...</td>\n",
       "      <td>374</td>\n",
       "      <td>['Locus Award Nominee for Best Young Adult Boo...</td>\n",
       "      <td>96.0</td>\n",
       "    </tr>\n",
       "    <tr>\n",
       "      <th>1</th>\n",
       "      <td>Harry Potter and the Order of the Phoenix</td>\n",
       "      <td>J.K. Rowling, Mary GrandPré (Illustrator)</td>\n",
       "      <td>There is a door at the end of a silent corrido...</td>\n",
       "      <td>English</td>\n",
       "      <td>['Fantasy', 'Young Adult', 'Fiction', 'Magic',...</td>\n",
       "      <td>870</td>\n",
       "      <td>['Bram Stoker Award for Works for Young Reader...</td>\n",
       "      <td>98.0</td>\n",
       "    </tr>\n",
       "    <tr>\n",
       "      <th>2</th>\n",
       "      <td>To Kill a Mockingbird</td>\n",
       "      <td>Harper Lee</td>\n",
       "      <td>The unforgettable novel of a childhood in a sl...</td>\n",
       "      <td>English</td>\n",
       "      <td>['Classics', 'Fiction', 'Historical Fiction', ...</td>\n",
       "      <td>324</td>\n",
       "      <td>['Pulitzer Prize for Fiction (1961)', 'Audie A...</td>\n",
       "      <td>95.0</td>\n",
       "    </tr>\n",
       "    <tr>\n",
       "      <th>3</th>\n",
       "      <td>Pride and Prejudice</td>\n",
       "      <td>Jane Austen, Anna Quindlen (Introduction)</td>\n",
       "      <td>Alternate cover edition of ISBN 9780679783268S...</td>\n",
       "      <td>English</td>\n",
       "      <td>['Classics', 'Fiction', 'Romance', 'Historical...</td>\n",
       "      <td>279</td>\n",
       "      <td>[]</td>\n",
       "      <td>94.0</td>\n",
       "    </tr>\n",
       "    <tr>\n",
       "      <th>4</th>\n",
       "      <td>Twilight</td>\n",
       "      <td>Stephenie Meyer</td>\n",
       "      <td>About three things I was absolutely positive.\\...</td>\n",
       "      <td>English</td>\n",
       "      <td>['Young Adult', 'Fantasy', 'Romance', 'Vampire...</td>\n",
       "      <td>501</td>\n",
       "      <td>['Georgia Peach Book Award (2007)', 'Buxtehude...</td>\n",
       "      <td>78.0</td>\n",
       "    </tr>\n",
       "  </tbody>\n",
       "</table>\n",
       "</div>"
      ],
      "text/plain": [
       "                                       title  \\\n",
       "0                           The Hunger Games   \n",
       "1  Harry Potter and the Order of the Phoenix   \n",
       "2                      To Kill a Mockingbird   \n",
       "3                        Pride and Prejudice   \n",
       "4                                   Twilight   \n",
       "\n",
       "                                      author  \\\n",
       "0                            Suzanne Collins   \n",
       "1  J.K. Rowling, Mary GrandPré (Illustrator)   \n",
       "2                                 Harper Lee   \n",
       "3  Jane Austen, Anna Quindlen (Introduction)   \n",
       "4                            Stephenie Meyer   \n",
       "\n",
       "                                         description language  \\\n",
       "0  WINNING MEANS FAME AND FORTUNE.LOSING MEANS CE...  English   \n",
       "1  There is a door at the end of a silent corrido...  English   \n",
       "2  The unforgettable novel of a childhood in a sl...  English   \n",
       "3  Alternate cover edition of ISBN 9780679783268S...  English   \n",
       "4  About three things I was absolutely positive.\\...  English   \n",
       "\n",
       "                                              genres pages  \\\n",
       "0  ['Young Adult', 'Fiction', 'Dystopia', 'Fantas...   374   \n",
       "1  ['Fantasy', 'Young Adult', 'Fiction', 'Magic',...   870   \n",
       "2  ['Classics', 'Fiction', 'Historical Fiction', ...   324   \n",
       "3  ['Classics', 'Fiction', 'Romance', 'Historical...   279   \n",
       "4  ['Young Adult', 'Fantasy', 'Romance', 'Vampire...   501   \n",
       "\n",
       "                                              awards  likedPercent  \n",
       "0  ['Locus Award Nominee for Best Young Adult Boo...          96.0  \n",
       "1  ['Bram Stoker Award for Works for Young Reader...          98.0  \n",
       "2  ['Pulitzer Prize for Fiction (1961)', 'Audie A...          95.0  \n",
       "3                                                 []          94.0  \n",
       "4  ['Georgia Peach Book Award (2007)', 'Buxtehude...          78.0  "
      ]
     },
     "execution_count": 8,
     "metadata": {},
     "output_type": "execute_result"
    }
   ],
   "source": [
    "books_data.head()"
   ]
  },
  {
   "cell_type": "code",
   "execution_count": 9,
   "id": "570b1c74-66ae-4db3-b1a1-19584aa0aa03",
   "metadata": {},
   "outputs": [],
   "source": [
    "books_data.dropna(inplace=True)\n",
    "books_data.reset_index(drop=True,inplace=True)"
   ]
  },
  {
   "cell_type": "code",
   "execution_count": 10,
   "id": "265df647-9f7c-427d-bffd-55cd34f39f29",
   "metadata": {},
   "outputs": [
    {
     "data": {
      "text/plain": [
       "title           0\n",
       "author          0\n",
       "description     0\n",
       "language        0\n",
       "genres          0\n",
       "pages           0\n",
       "awards          0\n",
       "likedPercent    0\n",
       "dtype: int64"
      ]
     },
     "execution_count": 10,
     "metadata": {},
     "output_type": "execute_result"
    }
   ],
   "source": [
    "books_data.isnull().sum()"
   ]
  },
  {
   "cell_type": "code",
   "execution_count": 11,
   "id": "faf90808-9b6e-4181-a889-5b0457c243b7",
   "metadata": {},
   "outputs": [
    {
     "name": "stdout",
     "output_type": "stream",
     "text": [
      "<class 'pandas.core.frame.DataFrame'>\n",
      "RangeIndex: 45895 entries, 0 to 45894\n",
      "Data columns (total 8 columns):\n",
      " #   Column        Non-Null Count  Dtype  \n",
      "---  ------        --------------  -----  \n",
      " 0   title         45895 non-null  object \n",
      " 1   author        45895 non-null  object \n",
      " 2   description   45895 non-null  object \n",
      " 3   language      45895 non-null  object \n",
      " 4   genres        45895 non-null  object \n",
      " 5   pages         45895 non-null  object \n",
      " 6   awards        45895 non-null  object \n",
      " 7   likedPercent  45895 non-null  float64\n",
      "dtypes: float64(1), object(7)\n",
      "memory usage: 2.8+ MB\n"
     ]
    }
   ],
   "source": [
    "books_data.info()"
   ]
  },
  {
   "cell_type": "code",
   "execution_count": 12,
   "id": "879ef9f0-1b44-46b1-8574-4faebfdd833a",
   "metadata": {},
   "outputs": [],
   "source": [
    "def set_author(authors):\n",
    "    temp = []\n",
    "    authors = authors.split(',')\n",
    "    count = 1\n",
    "    for author in authors:\n",
    "        temp.append(author.replace(' ',''))\n",
    "        if count==2:\n",
    "            break\n",
    "        count+=1\n",
    "    return temp"
   ]
  },
  {
   "cell_type": "code",
   "execution_count": 13,
   "id": "b2707f31-24a6-4c89-b2e4-66a1d14ff6b8",
   "metadata": {},
   "outputs": [
    {
     "data": {
      "text/plain": [
       "['CharlotteBrontë', 'MichaelMason(Editor)']"
      ]
     },
     "execution_count": 13,
     "metadata": {},
     "output_type": "execute_result"
    }
   ],
   "source": [
    "set_author('Charlotte Brontë, Michael Mason (Editor), Barnett Freedman (Illustrator)')"
   ]
  },
  {
   "cell_type": "code",
   "execution_count": 14,
   "id": "0e64857e-f68c-4339-b684-6c05598ebcf9",
   "metadata": {},
   "outputs": [
    {
     "data": {
      "text/plain": [
       "'Charlotte Brontë, Michael Mason (Editor), Barnett Freedman (Illustrator)'"
      ]
     },
     "execution_count": 14,
     "metadata": {},
     "output_type": "execute_result"
    }
   ],
   "source": [
    "books_data['author'][18]"
   ]
  },
  {
   "cell_type": "code",
   "execution_count": 15,
   "id": "52cb7517-03dd-4ec0-bec1-2c2c2f2e7f25",
   "metadata": {},
   "outputs": [],
   "source": [
    "books_data['author'] = books_data['author'].apply(set_author)"
   ]
  },
  {
   "cell_type": "code",
   "execution_count": 16,
   "id": "da53eff8-c328-4819-a0e4-50cdd662ccf1",
   "metadata": {},
   "outputs": [],
   "source": [
    "def set_description(description):\n",
    "        description = description.replace('.','')\n",
    "        description = description.replace(',','')\n",
    "        description = description.replace('--','')\n",
    "        return description.lower().split()"
   ]
  },
  {
   "cell_type": "code",
   "execution_count": 17,
   "id": "4c5f351f-d17c-463b-9659-1cde873b12a4",
   "metadata": {},
   "outputs": [],
   "source": [
    "books_data['description'] = books_data['description'].apply(set_description)"
   ]
  },
  {
   "cell_type": "code",
   "execution_count": 18,
   "id": "72ee3d60-6fb4-463a-be89-4e8f726503a3",
   "metadata": {},
   "outputs": [
    {
     "data": {
      "text/plain": [
       "['winning',\n",
       " 'means',\n",
       " 'fame',\n",
       " 'and',\n",
       " 'fortunelosing',\n",
       " 'means',\n",
       " 'certain',\n",
       " 'deaththe',\n",
       " 'hunger',\n",
       " 'games',\n",
       " 'have',\n",
       " 'begun',\n",
       " 'in',\n",
       " 'the',\n",
       " 'ruins',\n",
       " 'of',\n",
       " 'a',\n",
       " 'place',\n",
       " 'once',\n",
       " 'known',\n",
       " 'as',\n",
       " 'north',\n",
       " 'america',\n",
       " 'lies',\n",
       " 'the',\n",
       " 'nation',\n",
       " 'of',\n",
       " 'panem',\n",
       " 'a',\n",
       " 'shining',\n",
       " 'capitol',\n",
       " 'surrounded',\n",
       " 'by',\n",
       " 'twelve',\n",
       " 'outlying',\n",
       " 'districts',\n",
       " 'the',\n",
       " 'capitol',\n",
       " 'is',\n",
       " 'harsh',\n",
       " 'and',\n",
       " 'cruel',\n",
       " 'and',\n",
       " 'keeps',\n",
       " 'the',\n",
       " 'districts',\n",
       " 'in',\n",
       " 'line',\n",
       " 'by',\n",
       " 'forcing',\n",
       " 'them',\n",
       " 'all',\n",
       " 'to',\n",
       " 'send',\n",
       " 'one',\n",
       " 'boy',\n",
       " 'and',\n",
       " 'once',\n",
       " 'girl',\n",
       " 'between',\n",
       " 'the',\n",
       " 'ages',\n",
       " 'of',\n",
       " 'twelve',\n",
       " 'and',\n",
       " 'eighteen',\n",
       " 'to',\n",
       " 'participate',\n",
       " 'in',\n",
       " 'the',\n",
       " 'annual',\n",
       " 'hunger',\n",
       " 'games',\n",
       " 'a',\n",
       " 'fight',\n",
       " 'to',\n",
       " 'the',\n",
       " 'death',\n",
       " 'on',\n",
       " 'live',\n",
       " 'tvsixteen-year-old',\n",
       " 'katniss',\n",
       " 'everdeen',\n",
       " 'regards',\n",
       " 'it',\n",
       " 'as',\n",
       " 'a',\n",
       " 'death',\n",
       " 'sentence',\n",
       " 'when',\n",
       " 'she',\n",
       " 'steps',\n",
       " 'forward',\n",
       " 'to',\n",
       " 'take',\n",
       " 'her',\n",
       " \"sister's\",\n",
       " 'place',\n",
       " 'in',\n",
       " 'the',\n",
       " 'games',\n",
       " 'but',\n",
       " 'katniss',\n",
       " 'has',\n",
       " 'been',\n",
       " 'close',\n",
       " 'to',\n",
       " 'dead',\n",
       " 'before—and',\n",
       " 'survival',\n",
       " 'for',\n",
       " 'her',\n",
       " 'is',\n",
       " 'second',\n",
       " 'nature',\n",
       " 'without',\n",
       " 'really',\n",
       " 'meaning',\n",
       " 'to',\n",
       " 'she',\n",
       " 'becomes',\n",
       " 'a',\n",
       " 'contender',\n",
       " 'but',\n",
       " 'if',\n",
       " 'she',\n",
       " 'is',\n",
       " 'to',\n",
       " 'win',\n",
       " 'she',\n",
       " 'will',\n",
       " 'have',\n",
       " 'to',\n",
       " 'start',\n",
       " 'making',\n",
       " 'choices',\n",
       " 'that',\n",
       " 'weight',\n",
       " 'survival',\n",
       " 'against',\n",
       " 'humanity',\n",
       " 'and',\n",
       " 'life',\n",
       " 'against',\n",
       " 'love']"
      ]
     },
     "execution_count": 18,
     "metadata": {},
     "output_type": "execute_result"
    }
   ],
   "source": [
    "books_data['description'][0]"
   ]
  },
  {
   "cell_type": "code",
   "execution_count": 19,
   "id": "8c7ad36d-b4d4-4cf0-9e3f-a68b734f22b7",
   "metadata": {},
   "outputs": [],
   "source": [
    "def set_language(lang):\n",
    "    lang = lang.replace(' ','')\n",
    "    if ';' in lang:\n",
    "        if ',' in lang:\n",
    "            temp = lang.split(',')\n",
    "            return [temp[0]]+temp[1].split(';')\n",
    "        else:\n",
    "            return lang.split(';')\n",
    "    else:\n",
    "        return [lang]"
   ]
  },
  {
   "cell_type": "code",
   "execution_count": 20,
   "id": "976e238b-def5-410d-95e4-90c2382befe6",
   "metadata": {},
   "outputs": [
    {
     "data": {
      "text/plain": [
       "['Bokmål', 'Norwegian;NorwegianBokmål']"
      ]
     },
     "execution_count": 20,
     "metadata": {},
     "output_type": "execute_result"
    }
   ],
   "source": [
    "['Bokmål','Norwegian;NorwegianBokmål']"
   ]
  },
  {
   "cell_type": "code",
   "execution_count": 21,
   "id": "6baa2b7e-e4cd-4972-b45c-ebfe1dac41ec",
   "metadata": {},
   "outputs": [
    {
     "name": "stdout",
     "output_type": "stream",
     "text": [
      "['Filipino', 'Pilipino']\n",
      "['Filipino', 'Pilipino']\n",
      "['Catalan', 'Valencian']\n",
      "['Filipino', 'Pilipino']\n",
      "['Filipino', 'Pilipino']\n",
      "['Catalan', 'Valencian']\n",
      "['Bokmål', 'Norwegian', 'NorwegianBokmål']\n",
      "['Filipino', 'Pilipino']\n",
      "['Filipino', 'Pilipino']\n",
      "['Catalan', 'Valencian']\n",
      "['Filipino', 'Pilipino']\n",
      "['Filipino', 'Pilipino']\n",
      "['Filipino', 'Pilipino']\n",
      "['Catalan', 'Valencian']\n",
      "['Panjabi', 'Punjabi']\n",
      "['Catalan', 'Valencian']\n",
      "['Filipino', 'Pilipino']\n",
      "['Bokmål', 'Norwegian', 'NorwegianBokmål']\n",
      "['Filipino', 'Pilipino']\n",
      "['Catalan', 'Valencian']\n",
      "['Bokmål', 'Norwegian', 'NorwegianBokmål']\n",
      "['Filipino', 'Pilipino']\n",
      "['Catalan', 'Valencian']\n",
      "['Filipino', 'Pilipino']\n",
      "['Filipino', 'Pilipino']\n",
      "['Bokmål', 'Norwegian', 'NorwegianBokmål']\n",
      "['Bokmål', 'Norwegian', 'NorwegianBokmål']\n",
      "['Filipino', 'Pilipino']\n",
      "['Catalan', 'Valencian']\n",
      "['Filipino', 'Pilipino']\n",
      "['Catalan', 'Valencian']\n",
      "['Filipino', 'Pilipino']\n",
      "['Filipino', 'Pilipino']\n",
      "['Filipino', 'Pilipino']\n",
      "['Filipino', 'Pilipino']\n",
      "['Filipino', 'Pilipino']\n",
      "['Filipino', 'Pilipino']\n",
      "['Filipino', 'Pilipino']\n",
      "['Filipino', 'Pilipino']\n",
      "['Catalan', 'Valencian']\n",
      "['Filipino', 'Pilipino']\n",
      "['Filipino', 'Pilipino']\n",
      "['Bokmål', 'Norwegian', 'NorwegianBokmål']\n",
      "['Filipino', 'Pilipino']\n",
      "['Filipino', 'Pilipino']\n",
      "['Filipino', 'Pilipino']\n",
      "['Filipino', 'Pilipino']\n",
      "['Filipino', 'Pilipino']\n",
      "['Filipino', 'Pilipino']\n",
      "['Filipino', 'Pilipino']\n",
      "['Filipino', 'Pilipino']\n",
      "['Filipino', 'Pilipino']\n",
      "['Bokmål', 'Norwegian', 'NorwegianBokmål']\n",
      "['Bokmål', 'Norwegian', 'NorwegianBokmål']\n",
      "['Bokmål', 'Norwegian', 'NorwegianBokmål']\n",
      "['Bokmål', 'Norwegian', 'NorwegianBokmål']\n",
      "['Bokmål', 'Norwegian', 'NorwegianBokmål']\n"
     ]
    }
   ],
   "source": [
    "for i in books_data['language'].apply(set_language):\n",
    "    if len(i)>1:\n",
    "        print(i)"
   ]
  },
  {
   "cell_type": "code",
   "execution_count": 22,
   "id": "3974195e-8719-4306-b86e-4346f288c2b1",
   "metadata": {},
   "outputs": [],
   "source": [
    "books_data['language'] = books_data['language'].apply(set_language)"
   ]
  },
  {
   "cell_type": "code",
   "execution_count": 23,
   "id": "2fad50e8-43b1-43e4-b945-df5222297e53",
   "metadata": {},
   "outputs": [],
   "source": [
    "def set_genres(genres):\n",
    "    genres = eval(genres)\n",
    "    temp = []\n",
    "    for genre in genres:\n",
    "        temp.append(genre.replace(' ',''))\n",
    "    return temp"
   ]
  },
  {
   "cell_type": "code",
   "execution_count": 24,
   "id": "203f9c02-2934-4925-ab9c-cde2cfe4562a",
   "metadata": {},
   "outputs": [],
   "source": [
    "books_data['genres'] = books_data['genres'].apply(set_genres)"
   ]
  },
  {
   "cell_type": "code",
   "execution_count": 25,
   "id": "f6c0c0fa-67c5-4dd2-a177-d3b683fbf120",
   "metadata": {},
   "outputs": [],
   "source": [
    "def set_awards(awards):\n",
    "    awards = eval(awards)\n",
    "    temp = []\n",
    "    for award in awards:\n",
    "        temp.append(award.replace(' ',''))\n",
    "    return temp"
   ]
  },
  {
   "cell_type": "code",
   "execution_count": 26,
   "id": "3903624c-2d5c-458c-929a-084643dbd4b9",
   "metadata": {},
   "outputs": [],
   "source": [
    "books_data['awards'] = books_data['awards'].apply(set_awards)"
   ]
  },
  {
   "cell_type": "code",
   "execution_count": 27,
   "id": "634d5aaa-71f2-4bec-82b5-258425541c91",
   "metadata": {},
   "outputs": [],
   "source": [
    "def set_pages(pages):\n",
    "    try:\n",
    "        return [eval(pages)]\n",
    "    except:\n",
    "        return [1]"
   ]
  },
  {
   "cell_type": "code",
   "execution_count": 28,
   "id": "37e15b41-8e5f-4fe5-823b-e413c6e7a8a2",
   "metadata": {},
   "outputs": [],
   "source": [
    "books_data['pages'] = books_data['pages'].apply(set_pages)"
   ]
  },
  {
   "cell_type": "code",
   "execution_count": 29,
   "id": "7b9a559d-177e-4304-bacc-d7e4e351ff1f",
   "metadata": {},
   "outputs": [],
   "source": [
    "books_data['likedPercent'] = books_data['likedPercent'].apply(lambda liked : [liked])"
   ]
  },
  {
   "cell_type": "code",
   "execution_count": 30,
   "id": "3d0698d2-77b0-4edb-8368-088b69547c99",
   "metadata": {},
   "outputs": [
    {
     "name": "stdout",
     "output_type": "stream",
     "text": [
      "<class 'pandas.core.frame.DataFrame'>\n",
      "RangeIndex: 45895 entries, 0 to 45894\n",
      "Data columns (total 8 columns):\n",
      " #   Column        Non-Null Count  Dtype \n",
      "---  ------        --------------  ----- \n",
      " 0   title         45895 non-null  object\n",
      " 1   author        45895 non-null  object\n",
      " 2   description   45895 non-null  object\n",
      " 3   language      45895 non-null  object\n",
      " 4   genres        45895 non-null  object\n",
      " 5   pages         45895 non-null  object\n",
      " 6   awards        45895 non-null  object\n",
      " 7   likedPercent  45895 non-null  object\n",
      "dtypes: object(8)\n",
      "memory usage: 2.8+ MB\n"
     ]
    }
   ],
   "source": [
    "books_data.info()"
   ]
  },
  {
   "cell_type": "code",
   "execution_count": 31,
   "id": "1dd6d104-ea5c-4521-969e-2ee3594616fd",
   "metadata": {
    "scrolled": true
   },
   "outputs": [
    {
     "data": {
      "text/html": [
       "<div>\n",
       "<style scoped>\n",
       "    .dataframe tbody tr th:only-of-type {\n",
       "        vertical-align: middle;\n",
       "    }\n",
       "\n",
       "    .dataframe tbody tr th {\n",
       "        vertical-align: top;\n",
       "    }\n",
       "\n",
       "    .dataframe thead th {\n",
       "        text-align: right;\n",
       "    }\n",
       "</style>\n",
       "<table border=\"1\" class=\"dataframe\">\n",
       "  <thead>\n",
       "    <tr style=\"text-align: right;\">\n",
       "      <th></th>\n",
       "      <th>title</th>\n",
       "      <th>author</th>\n",
       "      <th>description</th>\n",
       "      <th>language</th>\n",
       "      <th>genres</th>\n",
       "      <th>pages</th>\n",
       "      <th>awards</th>\n",
       "      <th>likedPercent</th>\n",
       "    </tr>\n",
       "  </thead>\n",
       "  <tbody>\n",
       "    <tr>\n",
       "      <th>0</th>\n",
       "      <td>The Hunger Games</td>\n",
       "      <td>[SuzanneCollins]</td>\n",
       "      <td>[winning, means, fame, and, fortunelosing, mea...</td>\n",
       "      <td>[English]</td>\n",
       "      <td>[YoungAdult, Fiction, Dystopia, Fantasy, Scien...</td>\n",
       "      <td>[374]</td>\n",
       "      <td>[LocusAwardNomineeforBestYoungAdultBook(2009),...</td>\n",
       "      <td>[96.0]</td>\n",
       "    </tr>\n",
       "    <tr>\n",
       "      <th>1</th>\n",
       "      <td>Harry Potter and the Order of the Phoenix</td>\n",
       "      <td>[J.K.Rowling, MaryGrandPré(Illustrator)]</td>\n",
       "      <td>[there, is, a, door, at, the, end, of, a, sile...</td>\n",
       "      <td>[English]</td>\n",
       "      <td>[Fantasy, YoungAdult, Fiction, Magic, Children...</td>\n",
       "      <td>[870]</td>\n",
       "      <td>[BramStokerAwardforWorksforYoungReaders(2003),...</td>\n",
       "      <td>[98.0]</td>\n",
       "    </tr>\n",
       "    <tr>\n",
       "      <th>2</th>\n",
       "      <td>To Kill a Mockingbird</td>\n",
       "      <td>[HarperLee]</td>\n",
       "      <td>[the, unforgettable, novel, of, a, childhood, ...</td>\n",
       "      <td>[English]</td>\n",
       "      <td>[Classics, Fiction, HistoricalFiction, School,...</td>\n",
       "      <td>[324]</td>\n",
       "      <td>[PulitzerPrizeforFiction(1961), AudieAwardforC...</td>\n",
       "      <td>[95.0]</td>\n",
       "    </tr>\n",
       "    <tr>\n",
       "      <th>3</th>\n",
       "      <td>Pride and Prejudice</td>\n",
       "      <td>[JaneAusten, AnnaQuindlen(Introduction)]</td>\n",
       "      <td>[alternate, cover, edition, of, isbn, 97806797...</td>\n",
       "      <td>[English]</td>\n",
       "      <td>[Classics, Fiction, Romance, HistoricalFiction...</td>\n",
       "      <td>[279]</td>\n",
       "      <td>[]</td>\n",
       "      <td>[94.0]</td>\n",
       "    </tr>\n",
       "    <tr>\n",
       "      <th>4</th>\n",
       "      <td>Twilight</td>\n",
       "      <td>[StephenieMeyer]</td>\n",
       "      <td>[about, three, things, i, was, absolutely, pos...</td>\n",
       "      <td>[English]</td>\n",
       "      <td>[YoungAdult, Fantasy, Romance, Vampires, Ficti...</td>\n",
       "      <td>[501]</td>\n",
       "      <td>[GeorgiaPeachBookAward(2007), BuxtehuderBulle(...</td>\n",
       "      <td>[78.0]</td>\n",
       "    </tr>\n",
       "  </tbody>\n",
       "</table>\n",
       "</div>"
      ],
      "text/plain": [
       "                                       title  \\\n",
       "0                           The Hunger Games   \n",
       "1  Harry Potter and the Order of the Phoenix   \n",
       "2                      To Kill a Mockingbird   \n",
       "3                        Pride and Prejudice   \n",
       "4                                   Twilight   \n",
       "\n",
       "                                     author  \\\n",
       "0                          [SuzanneCollins]   \n",
       "1  [J.K.Rowling, MaryGrandPré(Illustrator)]   \n",
       "2                               [HarperLee]   \n",
       "3  [JaneAusten, AnnaQuindlen(Introduction)]   \n",
       "4                          [StephenieMeyer]   \n",
       "\n",
       "                                         description   language  \\\n",
       "0  [winning, means, fame, and, fortunelosing, mea...  [English]   \n",
       "1  [there, is, a, door, at, the, end, of, a, sile...  [English]   \n",
       "2  [the, unforgettable, novel, of, a, childhood, ...  [English]   \n",
       "3  [alternate, cover, edition, of, isbn, 97806797...  [English]   \n",
       "4  [about, three, things, i, was, absolutely, pos...  [English]   \n",
       "\n",
       "                                              genres  pages  \\\n",
       "0  [YoungAdult, Fiction, Dystopia, Fantasy, Scien...  [374]   \n",
       "1  [Fantasy, YoungAdult, Fiction, Magic, Children...  [870]   \n",
       "2  [Classics, Fiction, HistoricalFiction, School,...  [324]   \n",
       "3  [Classics, Fiction, Romance, HistoricalFiction...  [279]   \n",
       "4  [YoungAdult, Fantasy, Romance, Vampires, Ficti...  [501]   \n",
       "\n",
       "                                              awards likedPercent  \n",
       "0  [LocusAwardNomineeforBestYoungAdultBook(2009),...       [96.0]  \n",
       "1  [BramStokerAwardforWorksforYoungReaders(2003),...       [98.0]  \n",
       "2  [PulitzerPrizeforFiction(1961), AudieAwardforC...       [95.0]  \n",
       "3                                                 []       [94.0]  \n",
       "4  [GeorgiaPeachBookAward(2007), BuxtehuderBulle(...       [78.0]  "
      ]
     },
     "execution_count": 31,
     "metadata": {},
     "output_type": "execute_result"
    }
   ],
   "source": [
    "books_data.head()"
   ]
  },
  {
   "cell_type": "code",
   "execution_count": 32,
   "id": "30cb3d63-df3c-48a7-917d-41af68e9bfde",
   "metadata": {},
   "outputs": [],
   "source": [
    "books_data['Tag'] = books_data['author'] + books_data['description'] + books_data['language'] + books_data['genres'] + books_data['pages'] + books_data['awards'] + books_data['likedPercent']"
   ]
  },
  {
   "cell_type": "code",
   "execution_count": 33,
   "id": "884ca4ca-84fa-43c6-85f2-cf373d1c166b",
   "metadata": {},
   "outputs": [],
   "source": [
    "books = books_data[['title','Tag']]"
   ]
  },
  {
   "cell_type": "code",
   "execution_count": 34,
   "id": "e0dd8f44-9ac9-4fc2-ac83-afad1fc017bd",
   "metadata": {},
   "outputs": [
    {
     "data": {
      "text/html": [
       "<div>\n",
       "<style scoped>\n",
       "    .dataframe tbody tr th:only-of-type {\n",
       "        vertical-align: middle;\n",
       "    }\n",
       "\n",
       "    .dataframe tbody tr th {\n",
       "        vertical-align: top;\n",
       "    }\n",
       "\n",
       "    .dataframe thead th {\n",
       "        text-align: right;\n",
       "    }\n",
       "</style>\n",
       "<table border=\"1\" class=\"dataframe\">\n",
       "  <thead>\n",
       "    <tr style=\"text-align: right;\">\n",
       "      <th></th>\n",
       "      <th>title</th>\n",
       "      <th>Tag</th>\n",
       "    </tr>\n",
       "  </thead>\n",
       "  <tbody>\n",
       "    <tr>\n",
       "      <th>0</th>\n",
       "      <td>The Hunger Games</td>\n",
       "      <td>[SuzanneCollins, winning, means, fame, and, fo...</td>\n",
       "    </tr>\n",
       "    <tr>\n",
       "      <th>1</th>\n",
       "      <td>Harry Potter and the Order of the Phoenix</td>\n",
       "      <td>[J.K.Rowling, MaryGrandPré(Illustrator), there...</td>\n",
       "    </tr>\n",
       "    <tr>\n",
       "      <th>2</th>\n",
       "      <td>To Kill a Mockingbird</td>\n",
       "      <td>[HarperLee, the, unforgettable, novel, of, a, ...</td>\n",
       "    </tr>\n",
       "    <tr>\n",
       "      <th>3</th>\n",
       "      <td>Pride and Prejudice</td>\n",
       "      <td>[JaneAusten, AnnaQuindlen(Introduction), alter...</td>\n",
       "    </tr>\n",
       "    <tr>\n",
       "      <th>4</th>\n",
       "      <td>Twilight</td>\n",
       "      <td>[StephenieMeyer, about, three, things, i, was,...</td>\n",
       "    </tr>\n",
       "  </tbody>\n",
       "</table>\n",
       "</div>"
      ],
      "text/plain": [
       "                                       title  \\\n",
       "0                           The Hunger Games   \n",
       "1  Harry Potter and the Order of the Phoenix   \n",
       "2                      To Kill a Mockingbird   \n",
       "3                        Pride and Prejudice   \n",
       "4                                   Twilight   \n",
       "\n",
       "                                                 Tag  \n",
       "0  [SuzanneCollins, winning, means, fame, and, fo...  \n",
       "1  [J.K.Rowling, MaryGrandPré(Illustrator), there...  \n",
       "2  [HarperLee, the, unforgettable, novel, of, a, ...  \n",
       "3  [JaneAusten, AnnaQuindlen(Introduction), alter...  \n",
       "4  [StephenieMeyer, about, three, things, i, was,...  "
      ]
     },
     "execution_count": 34,
     "metadata": {},
     "output_type": "execute_result"
    }
   ],
   "source": [
    "books.head()"
   ]
  },
  {
   "cell_type": "code",
   "execution_count": 35,
   "id": "3af79cb5-5e5b-49b9-b6d8-d9e4ae26b774",
   "metadata": {},
   "outputs": [],
   "source": [
    "# love\n",
    "# loving \n",
    "# loved"
   ]
  },
  {
   "cell_type": "code",
   "execution_count": 36,
   "id": "e990c355-7903-4981-a0a9-4d064d82507d",
   "metadata": {},
   "outputs": [],
   "source": [
    "from nltk.stem import PorterStemmer\n",
    "\n",
    "porter_stemmer = PorterStemmer()"
   ]
  },
  {
   "cell_type": "code",
   "execution_count": 37,
   "id": "805fd3bc-7030-4828-8cdd-73f0ad4c2af7",
   "metadata": {},
   "outputs": [
    {
     "data": {
      "text/plain": [
       "'play'"
      ]
     },
     "execution_count": 37,
     "metadata": {},
     "output_type": "execute_result"
    }
   ],
   "source": [
    "porter_stemmer.stem('PLAY')"
   ]
  },
  {
   "cell_type": "code",
   "execution_count": 38,
   "id": "d2b85d2a-373d-41be-bc45-a7a2d9c8542b",
   "metadata": {},
   "outputs": [],
   "source": [
    "def stem_words(tag):\n",
    "    temp = []\n",
    "    for word in tag:\n",
    "        word = porter_stemmer.stem(str(word))\n",
    "        temp.append(word)\n",
    "    return temp"
   ]
  },
  {
   "cell_type": "code",
   "execution_count": 39,
   "id": "21bce408-11e5-4a89-9ca9-d91f62d6305a",
   "metadata": {},
   "outputs": [
    {
     "name": "stderr",
     "output_type": "stream",
     "text": [
      "C:\\Users\\Sukh-e\\AppData\\Local\\Temp\\ipykernel_17768\\4016483297.py:1: SettingWithCopyWarning: \n",
      "A value is trying to be set on a copy of a slice from a DataFrame.\n",
      "Try using .loc[row_indexer,col_indexer] = value instead\n",
      "\n",
      "See the caveats in the documentation: https://pandas.pydata.org/pandas-docs/stable/user_guide/indexing.html#returning-a-view-versus-a-copy\n",
      "  books['Tag'] = books['Tag'].apply(stem_words)\n"
     ]
    }
   ],
   "source": [
    "books['Tag'] = books['Tag'].apply(stem_words)"
   ]
  },
  {
   "cell_type": "code",
   "execution_count": 40,
   "id": "59e87d3b-25af-4a59-b23b-0944b0762d55",
   "metadata": {},
   "outputs": [
    {
     "name": "stderr",
     "output_type": "stream",
     "text": [
      "C:\\Users\\Sukh-e\\AppData\\Local\\Temp\\ipykernel_17768\\754635690.py:1: SettingWithCopyWarning: \n",
      "A value is trying to be set on a copy of a slice from a DataFrame.\n",
      "Try using .loc[row_indexer,col_indexer] = value instead\n",
      "\n",
      "See the caveats in the documentation: https://pandas.pydata.org/pandas-docs/stable/user_guide/indexing.html#returning-a-view-versus-a-copy\n",
      "  books['Tag'] = books['Tag'].apply(lambda tag: ' '.join(tag))\n"
     ]
    }
   ],
   "source": [
    "books['Tag'] = books['Tag'].apply(lambda tag: ' '.join(tag))"
   ]
  },
  {
   "cell_type": "code",
   "execution_count": 41,
   "id": "006bb24b-7db0-4429-86cf-4cbc0385e6a5",
   "metadata": {},
   "outputs": [
    {
     "data": {
      "text/html": [
       "<div>\n",
       "<style scoped>\n",
       "    .dataframe tbody tr th:only-of-type {\n",
       "        vertical-align: middle;\n",
       "    }\n",
       "\n",
       "    .dataframe tbody tr th {\n",
       "        vertical-align: top;\n",
       "    }\n",
       "\n",
       "    .dataframe thead th {\n",
       "        text-align: right;\n",
       "    }\n",
       "</style>\n",
       "<table border=\"1\" class=\"dataframe\">\n",
       "  <thead>\n",
       "    <tr style=\"text-align: right;\">\n",
       "      <th></th>\n",
       "      <th>title</th>\n",
       "      <th>Tag</th>\n",
       "    </tr>\n",
       "  </thead>\n",
       "  <tbody>\n",
       "    <tr>\n",
       "      <th>0</th>\n",
       "      <td>The Hunger Games</td>\n",
       "      <td>suzannecollin win mean fame and fortunelos mea...</td>\n",
       "    </tr>\n",
       "    <tr>\n",
       "      <th>1</th>\n",
       "      <td>Harry Potter and the Order of the Phoenix</td>\n",
       "      <td>j.k.rowl marygrandpré(illustrator) there is a ...</td>\n",
       "    </tr>\n",
       "    <tr>\n",
       "      <th>2</th>\n",
       "      <td>To Kill a Mockingbird</td>\n",
       "      <td>harperle the unforgett novel of a childhood in...</td>\n",
       "    </tr>\n",
       "    <tr>\n",
       "      <th>3</th>\n",
       "      <td>Pride and Prejudice</td>\n",
       "      <td>janeausten annaquindlen(introduction) altern c...</td>\n",
       "    </tr>\n",
       "    <tr>\n",
       "      <th>4</th>\n",
       "      <td>Twilight</td>\n",
       "      <td>stepheniemey about three thing i wa absolut po...</td>\n",
       "    </tr>\n",
       "  </tbody>\n",
       "</table>\n",
       "</div>"
      ],
      "text/plain": [
       "                                       title  \\\n",
       "0                           The Hunger Games   \n",
       "1  Harry Potter and the Order of the Phoenix   \n",
       "2                      To Kill a Mockingbird   \n",
       "3                        Pride and Prejudice   \n",
       "4                                   Twilight   \n",
       "\n",
       "                                                 Tag  \n",
       "0  suzannecollin win mean fame and fortunelos mea...  \n",
       "1  j.k.rowl marygrandpré(illustrator) there is a ...  \n",
       "2  harperle the unforgett novel of a childhood in...  \n",
       "3  janeausten annaquindlen(introduction) altern c...  \n",
       "4  stepheniemey about three thing i wa absolut po...  "
      ]
     },
     "execution_count": 41,
     "metadata": {},
     "output_type": "execute_result"
    }
   ],
   "source": [
    "books.head()"
   ]
  },
  {
   "cell_type": "code",
   "execution_count": 42,
   "id": "35fb4c0c-d15d-415b-adc5-ae33b28b473b",
   "metadata": {},
   "outputs": [],
   "source": [
    "from sklearn.feature_extraction.text import TfidfVectorizer\n",
    "\n",
    "tfidf = TfidfVectorizer(max_features=5000,stop_words='english')"
   ]
  },
  {
   "cell_type": "code",
   "execution_count": 43,
   "id": "367f003f-29c4-4d73-b4a8-b0595d2f8e2e",
   "metadata": {},
   "outputs": [
    {
     "data": {
      "text/html": [
       "<style>#sk-container-id-1 {color: black;background-color: white;}#sk-container-id-1 pre{padding: 0;}#sk-container-id-1 div.sk-toggleable {background-color: white;}#sk-container-id-1 label.sk-toggleable__label {cursor: pointer;display: block;width: 100%;margin-bottom: 0;padding: 0.3em;box-sizing: border-box;text-align: center;}#sk-container-id-1 label.sk-toggleable__label-arrow:before {content: \"▸\";float: left;margin-right: 0.25em;color: #696969;}#sk-container-id-1 label.sk-toggleable__label-arrow:hover:before {color: black;}#sk-container-id-1 div.sk-estimator:hover label.sk-toggleable__label-arrow:before {color: black;}#sk-container-id-1 div.sk-toggleable__content {max-height: 0;max-width: 0;overflow: hidden;text-align: left;background-color: #f0f8ff;}#sk-container-id-1 div.sk-toggleable__content pre {margin: 0.2em;color: black;border-radius: 0.25em;background-color: #f0f8ff;}#sk-container-id-1 input.sk-toggleable__control:checked~div.sk-toggleable__content {max-height: 200px;max-width: 100%;overflow: auto;}#sk-container-id-1 input.sk-toggleable__control:checked~label.sk-toggleable__label-arrow:before {content: \"▾\";}#sk-container-id-1 div.sk-estimator input.sk-toggleable__control:checked~label.sk-toggleable__label {background-color: #d4ebff;}#sk-container-id-1 div.sk-label input.sk-toggleable__control:checked~label.sk-toggleable__label {background-color: #d4ebff;}#sk-container-id-1 input.sk-hidden--visually {border: 0;clip: rect(1px 1px 1px 1px);clip: rect(1px, 1px, 1px, 1px);height: 1px;margin: -1px;overflow: hidden;padding: 0;position: absolute;width: 1px;}#sk-container-id-1 div.sk-estimator {font-family: monospace;background-color: #f0f8ff;border: 1px dotted black;border-radius: 0.25em;box-sizing: border-box;margin-bottom: 0.5em;}#sk-container-id-1 div.sk-estimator:hover {background-color: #d4ebff;}#sk-container-id-1 div.sk-parallel-item::after {content: \"\";width: 100%;border-bottom: 1px solid gray;flex-grow: 1;}#sk-container-id-1 div.sk-label:hover label.sk-toggleable__label {background-color: #d4ebff;}#sk-container-id-1 div.sk-serial::before {content: \"\";position: absolute;border-left: 1px solid gray;box-sizing: border-box;top: 0;bottom: 0;left: 50%;z-index: 0;}#sk-container-id-1 div.sk-serial {display: flex;flex-direction: column;align-items: center;background-color: white;padding-right: 0.2em;padding-left: 0.2em;position: relative;}#sk-container-id-1 div.sk-item {position: relative;z-index: 1;}#sk-container-id-1 div.sk-parallel {display: flex;align-items: stretch;justify-content: center;background-color: white;position: relative;}#sk-container-id-1 div.sk-item::before, #sk-container-id-1 div.sk-parallel-item::before {content: \"\";position: absolute;border-left: 1px solid gray;box-sizing: border-box;top: 0;bottom: 0;left: 50%;z-index: -1;}#sk-container-id-1 div.sk-parallel-item {display: flex;flex-direction: column;z-index: 1;position: relative;background-color: white;}#sk-container-id-1 div.sk-parallel-item:first-child::after {align-self: flex-end;width: 50%;}#sk-container-id-1 div.sk-parallel-item:last-child::after {align-self: flex-start;width: 50%;}#sk-container-id-1 div.sk-parallel-item:only-child::after {width: 0;}#sk-container-id-1 div.sk-dashed-wrapped {border: 1px dashed gray;margin: 0 0.4em 0.5em 0.4em;box-sizing: border-box;padding-bottom: 0.4em;background-color: white;}#sk-container-id-1 div.sk-label label {font-family: monospace;font-weight: bold;display: inline-block;line-height: 1.2em;}#sk-container-id-1 div.sk-label-container {text-align: center;}#sk-container-id-1 div.sk-container {/* jupyter's `normalize.less` sets `[hidden] { display: none; }` but bootstrap.min.css set `[hidden] { display: none !important; }` so we also need the `!important` here to be able to override the default hidden behavior on the sphinx rendered scikit-learn.org. See: https://github.com/scikit-learn/scikit-learn/issues/21755 */display: inline-block !important;position: relative;}#sk-container-id-1 div.sk-text-repr-fallback {display: none;}</style><div id=\"sk-container-id-1\" class=\"sk-top-container\"><div class=\"sk-text-repr-fallback\"><pre>TfidfVectorizer(max_features=5000, stop_words=&#x27;english&#x27;)</pre><b>In a Jupyter environment, please rerun this cell to show the HTML representation or trust the notebook. <br />On GitHub, the HTML representation is unable to render, please try loading this page with nbviewer.org.</b></div><div class=\"sk-container\" hidden><div class=\"sk-item\"><div class=\"sk-estimator sk-toggleable\"><input class=\"sk-toggleable__control sk-hidden--visually\" id=\"sk-estimator-id-1\" type=\"checkbox\" checked><label for=\"sk-estimator-id-1\" class=\"sk-toggleable__label sk-toggleable__label-arrow\">TfidfVectorizer</label><div class=\"sk-toggleable__content\"><pre>TfidfVectorizer(max_features=5000, stop_words=&#x27;english&#x27;)</pre></div></div></div></div></div>"
      ],
      "text/plain": [
       "TfidfVectorizer(max_features=5000, stop_words='english')"
      ]
     },
     "execution_count": 43,
     "metadata": {},
     "output_type": "execute_result"
    }
   ],
   "source": [
    "tfidf.fit(books['Tag'])"
   ]
  },
  {
   "cell_type": "code",
   "execution_count": 44,
   "id": "e3ca05e9-fb55-43ad-9f6f-127a6ba59922",
   "metadata": {},
   "outputs": [],
   "source": [
    "books_vectors = tfidf.transform(books['Tag']).toarray()"
   ]
  },
  {
   "cell_type": "code",
   "execution_count": 45,
   "id": "61662eb7-052a-408d-8d29-c8479a5acaf9",
   "metadata": {},
   "outputs": [
    {
     "data": {
      "text/plain": [
       "(45895, 5000)"
      ]
     },
     "execution_count": 45,
     "metadata": {},
     "output_type": "execute_result"
    }
   ],
   "source": [
    "books_vectors.shape"
   ]
  },
  {
   "cell_type": "code",
   "execution_count": 46,
   "id": "1afe828f-453a-4697-8bca-8c301ddee64f",
   "metadata": {},
   "outputs": [],
   "source": [
    "from sklearn.metrics.pairwise import cosine_similarity\n",
    "\n",
    "similar_books = cosine_similarity(books_vectors)"
   ]
  },
  {
   "cell_type": "code",
   "execution_count": 47,
   "id": "50fe33a7-2f0e-47b7-9f26-b5da2027c15b",
   "metadata": {},
   "outputs": [
    {
     "data": {
      "text/plain": [
       "array([1.        , 0.00942678, 0.02789539, ..., 0.0615217 , 0.0104853 ,\n",
       "       0.02937531])"
      ]
     },
     "execution_count": 47,
     "metadata": {},
     "output_type": "execute_result"
    }
   ],
   "source": [
    "similar_books[0]"
   ]
  },
  {
   "cell_type": "code",
   "execution_count": 48,
   "id": "95b43a87-268b-446a-9453-bf6476ddc348",
   "metadata": {},
   "outputs": [
    {
     "data": {
      "text/plain": [
       "[(3, 78), (1, 64), (0, 34), (2, 12)]"
      ]
     },
     "execution_count": 48,
     "metadata": {},
     "output_type": "execute_result"
    }
   ],
   "source": [
    "# Example :\n",
    "lst = [34,64,12,78]\n",
    "lst = list(enumerate(lst))\n",
    "sorted(lst,reverse=True,key=lambda x:x[1])"
   ]
  },
  {
   "cell_type": "code",
   "execution_count": null,
   "id": "1e6bd196-9d1b-4eb3-a5c2-9e5b03f8b9fd",
   "metadata": {},
   "outputs": [],
   "source": []
  },
  {
   "cell_type": "code",
   "execution_count": 49,
   "id": "67b1f4e3-8f7d-4b1b-a7d9-c476143da5da",
   "metadata": {},
   "outputs": [],
   "source": [
    "def recommend(book_name):\n",
    "    index = books[books['title']==book_name].index\n",
    "    similar_books_with_index = list(enumerate(similar_books[index][0]))\n",
    "    our_books = sorted(similar_books_with_index,reverse=True,key=lambda x:x[1])[1:6]\n",
    "    for index,_ in our_books:\n",
    "        print(books.iloc[index]['title'])"
   ]
  },
  {
   "cell_type": "code",
   "execution_count": 52,
   "id": "64d3bcc4-c2ea-47e9-b1de-a4eba6c991d9",
   "metadata": {},
   "outputs": [
    {
     "name": "stdout",
     "output_type": "stream",
     "text": [
      "Harry Potter and the Deathly Hallows\n",
      "The Lightning Thief\n",
      "The Book Thief\n",
      "The Arrival\n",
      "Elijah of Buxton\n"
     ]
    }
   ],
   "source": [
    "recommend('Twilight')"
   ]
  },
  {
   "cell_type": "code",
   "execution_count": 53,
   "id": "ef196f75-1a3b-485a-953a-00c62989fa81",
   "metadata": {},
   "outputs": [],
   "source": [
    "import pickle as pk"
   ]
  },
  {
   "cell_type": "code",
   "execution_count": 54,
   "id": "c0991223-eec3-4c1a-b6e7-18af01004edc",
   "metadata": {},
   "outputs": [
    {
     "ename": "MemoryError",
     "evalue": "",
     "output_type": "error",
     "traceback": [
      "\u001b[1;31m---------------------------------------------------------------------------\u001b[0m",
      "\u001b[1;31mMemoryError\u001b[0m                               Traceback (most recent call last)",
      "Cell \u001b[1;32mIn[54], line 1\u001b[0m\n\u001b[1;32m----> 1\u001b[0m pk\u001b[38;5;241m.\u001b[39mdump(similar_books,\u001b[38;5;28mopen\u001b[39m(\u001b[38;5;124m'\u001b[39m\u001b[38;5;124mSimilar_books.pkl\u001b[39m\u001b[38;5;124m'\u001b[39m,\u001b[38;5;124m'\u001b[39m\u001b[38;5;124mwb\u001b[39m\u001b[38;5;124m'\u001b[39m))\n",
      "\u001b[1;31mMemoryError\u001b[0m: "
     ]
    }
   ],
   "source": [
    "pk.dump(similar_books,open('Similar_books.pkl','wb'))"
   ]
  },
  {
   "cell_type": "code",
   "execution_count": null,
   "id": "e1936135-6de9-4a42-9057-867a9cb9eb79",
   "metadata": {},
   "outputs": [],
   "source": []
  }
 ],
 "metadata": {
  "kernelspec": {
   "display_name": "Python [conda env:base] *",
   "language": "python",
   "name": "conda-base-py"
  },
  "language_info": {
   "codemirror_mode": {
    "name": "ipython",
    "version": 3
   },
   "file_extension": ".py",
   "mimetype": "text/x-python",
   "name": "python",
   "nbconvert_exporter": "python",
   "pygments_lexer": "ipython3",
   "version": "3.11.7"
  }
 },
 "nbformat": 4,
 "nbformat_minor": 5
}
