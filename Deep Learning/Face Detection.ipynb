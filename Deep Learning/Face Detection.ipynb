{
 "cells": [
  {
   "cell_type": "markdown",
   "id": "08bb382d",
   "metadata": {},
   "source": [
    "# Importing Modules"
   ]
  },
  {
   "cell_type": "markdown",
   "id": "0ec153eb",
   "metadata": {},
   "source": [
    "**Open Cv Module is used to load images and detect faces and also it is use to access the web cam\n",
    "for live face detection**"
   ]
  },
  {
   "cell_type": "code",
   "execution_count": 1,
   "id": "686a7b1a",
   "metadata": {},
   "outputs": [],
   "source": [
    "import numpy as np\n",
    "import cv2"
   ]
  },
  {
   "cell_type": "markdown",
   "id": "382b2d65",
   "metadata": {},
   "source": [
    "## Loding Har Cascade Frontal Face File"
   ]
  },
  {
   "cell_type": "code",
   "execution_count": 10,
   "id": "c824ad18",
   "metadata": {},
   "outputs": [],
   "source": [
    "cascade_classifier = cv2.CascadeClassifier('haarcascade_frontalface_default.xml')"
   ]
  },
  {
   "cell_type": "markdown",
   "id": "a8657114",
   "metadata": {},
   "source": [
    "### Loding a image to detect faces"
   ]
  },
  {
   "cell_type": "code",
   "execution_count": 34,
   "id": "f47c71ff",
   "metadata": {},
   "outputs": [],
   "source": [
    "image = cv2.imread('image.jpg')"
   ]
  },
  {
   "cell_type": "markdown",
   "id": "ffcd064a",
   "metadata": {},
   "source": [
    "### Showing image with the help of open cv"
   ]
  },
  {
   "cell_type": "code",
   "execution_count": 17,
   "id": "c078b4d1",
   "metadata": {},
   "outputs": [],
   "source": [
    "cv2.imshow('Movie',image)\n",
    "cv2.waitKey(0)\n",
    "cv2.destroyAllWindows()"
   ]
  },
  {
   "cell_type": "markdown",
   "id": "78911b51",
   "metadata": {},
   "source": [
    "## Converting the image to black and white for better face detection"
   ]
  },
  {
   "cell_type": "code",
   "execution_count": 24,
   "id": "e215b3b5",
   "metadata": {},
   "outputs": [],
   "source": [
    "grey_image = cv2.cvtColor(image,cv2.COLOR_BGR2GRAY)"
   ]
  },
  {
   "cell_type": "code",
   "execution_count": 25,
   "id": "039fe186",
   "metadata": {},
   "outputs": [],
   "source": [
    "cv2.imshow('Movie',grey_image)\n",
    "cv2.waitKey(0)\n",
    "cv2.destroyAllWindows()"
   ]
  },
  {
   "cell_type": "markdown",
   "id": "22d13e7a",
   "metadata": {},
   "source": [
    "## Detecting faces and storing into a variable"
   ]
  },
  {
   "cell_type": "code",
   "execution_count": 33,
   "id": "04439ad3",
   "metadata": {},
   "outputs": [],
   "source": [
    "faces = cascade_classifier.detectMultiScale(image,1.5)"
   ]
  },
  {
   "cell_type": "markdown",
   "id": "3905c7e3",
   "metadata": {},
   "source": [
    "### Printing out the face coordinates"
   ]
  },
  {
   "cell_type": "code",
   "execution_count": 31,
   "id": "21a4cf4e",
   "metadata": {},
   "outputs": [
    {
     "data": {
      "text/plain": [
       "array([[ 786,  332,  181,  181],\n",
       "       [ 183,  128,  129,  129],\n",
       "       [1050,  197,  129,  129],\n",
       "       [ 432,  253,  129,  129],\n",
       "       [ 942,  178,   47,   47],\n",
       "       [ 538,  511,  181,  181],\n",
       "       [ 493,   39,  129,  129],\n",
       "       [1091,  105,   66,   66],\n",
       "       [ 623,  206,  181,  181],\n",
       "       [  46,  181,   66,   66],\n",
       "       [ 410,  228,  181,  181]])"
      ]
     },
     "execution_count": 31,
     "metadata": {},
     "output_type": "execute_result"
    }
   ],
   "source": [
    "faces"
   ]
  },
  {
   "cell_type": "markdown",
   "id": "8faba85f",
   "metadata": {},
   "source": [
    "# Drawing rectange on each face "
   ]
  },
  {
   "cell_type": "code",
   "execution_count": 35,
   "id": "af7e1d0a",
   "metadata": {},
   "outputs": [],
   "source": [
    "for x,y,w,h in faces:\n",
    "    cv2.rectangle(image,(x,y),(x+w,y+h),(0, 0, 255),2)"
   ]
  },
  {
   "cell_type": "markdown",
   "id": "c30178d1",
   "metadata": {},
   "source": [
    "## Showing the image with Detected Faces"
   ]
  },
  {
   "cell_type": "code",
   "execution_count": null,
   "id": "0d90cbb2",
   "metadata": {},
   "outputs": [],
   "source": [
    "cv2.imshow('Movie',image)\n",
    "cv2.waitKey(0)\n",
    "cv2.destroyAllWindows()"
   ]
  },
  {
   "cell_type": "code",
   "execution_count": null,
   "id": "0e4653df",
   "metadata": {},
   "outputs": [],
   "source": [
    "# pip install opencv-python==4.8.0.74"
   ]
  },
  {
   "cell_type": "markdown",
   "id": "8f814921",
   "metadata": {},
   "source": [
    "# Detecting Live face"
   ]
  },
  {
   "cell_type": "code",
   "execution_count": 14,
   "id": "7406f414",
   "metadata": {},
   "outputs": [],
   "source": [
    "capture = cv2.VideoCapture(0)\n",
    "while True:\n",
    "    _,frame = capture.read()\n",
    "    grey_image = cv2.cvtColor(frame,cv2.COLOR_BGR2GRAY)\n",
    "    faces = cascade_classifier.detectMultiScale(grey_image,1.2)\n",
    "    for x,y,w,h in faces:\n",
    "        cv2.rectangle(frame,(x,y),(x+w,y+h),(0, 0, 255),2)\n",
    "        \n",
    "        name = \"Sukhdeep Singh\"\n",
    "\n",
    "        # Add the name as text on the rectangle\n",
    "        cv2.putText(frame, name, (x, y-10), cv2.FONT_HERSHEY_SIMPLEX, 0.5, (0, 0, 139), 2)\n",
    "    cv2.imshow('Live Video',frame)\n",
    "    if cv2.waitKey(1)==ord('q'):\n",
    "        break\n",
    "capture.release()\n",
    "cv2.destroyAllWindows()"
   ]
  },
  {
   "cell_type": "code",
   "execution_count": 6,
   "id": "a2d2651a",
   "metadata": {},
   "outputs": [],
   "source": [
    "capture.release()\n",
    "cv2.destroyAllWindows()"
   ]
  }
 ],
 "metadata": {
  "kernelspec": {
   "display_name": "Python 3 (ipykernel)",
   "language": "python",
   "name": "python3"
  },
  "language_info": {
   "codemirror_mode": {
    "name": "ipython",
    "version": 3
   },
   "file_extension": ".py",
   "mimetype": "text/x-python",
   "name": "python",
   "nbconvert_exporter": "python",
   "pygments_lexer": "ipython3",
   "version": "3.9.13"
  }
 },
 "nbformat": 4,
 "nbformat_minor": 5
}
