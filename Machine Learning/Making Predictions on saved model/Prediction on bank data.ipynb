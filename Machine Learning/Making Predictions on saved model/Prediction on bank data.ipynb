{
 "cells": [
  {
   "cell_type": "code",
   "execution_count": 15,
   "id": "733252d4",
   "metadata": {},
   "outputs": [],
   "source": [
    "import pickle\n",
    "import pandas as pd"
   ]
  },
  {
   "cell_type": "code",
   "execution_count": 28,
   "id": "830f7453",
   "metadata": {
    "scrolled": true
   },
   "outputs": [
    {
     "name": "stderr",
     "output_type": "stream",
     "text": [
      "C:\\Users\\Sukh-e\\anaconda3\\lib\\site-packages\\sklearn\\base.py:329: UserWarning: Trying to unpickle estimator DecisionTreeClassifier from version 1.2.2 when using version 1.0.2. This might lead to breaking code or invalid results. Use at your own risk. For more info please refer to:\n",
      "https://scikit-learn.org/stable/modules/model_persistence.html#security-maintainability-limitations\n",
      "  warnings.warn(\n",
      "C:\\Users\\Sukh-e\\anaconda3\\lib\\site-packages\\sklearn\\base.py:329: UserWarning: Trying to unpickle estimator RandomForestClassifier from version 1.2.2 when using version 1.0.2. This might lead to breaking code or invalid results. Use at your own risk. For more info please refer to:\n",
      "https://scikit-learn.org/stable/modules/model_persistence.html#security-maintainability-limitations\n",
      "  warnings.warn(\n",
      "C:\\Users\\Sukh-e\\anaconda3\\lib\\site-packages\\sklearn\\base.py:329: UserWarning: Trying to unpickle estimator OneHotEncoder from version 1.2.2 when using version 1.0.2. This might lead to breaking code or invalid results. Use at your own risk. For more info please refer to:\n",
      "https://scikit-learn.org/stable/modules/model_persistence.html#security-maintainability-limitations\n",
      "  warnings.warn(\n"
     ]
    }
   ],
   "source": [
    "bank_model = pickle.load(open('Bank Customer Model.pkl','rb'))\n",
    "one_hot = pickle.load(open('Geography Encoding.pkl','rb'))"
   ]
  },
  {
   "cell_type": "code",
   "execution_count": 13,
   "id": "7504bc11",
   "metadata": {},
   "outputs": [
    {
     "name": "stdout",
     "output_type": "stream",
     "text": [
      "Enter your credit score : 608\n",
      "Enter your Gender male or female : male\n",
      "Enter your age : 41\n",
      "Enter your tenure : 1\n",
      "Enter your balance : 83807.86\n",
      "Enter No of product : 1\n",
      "Do you have any credit card ? yes or no : no\n",
      "Are you a active member ? yes or no : yes\n",
      "Enter your Salary : 112542.58\n",
      "Enter your region france,germany or spain : spain\n"
     ]
    }
   ],
   "source": [
    "credit_score = eval(input('Enter your credit score : '))\n",
    "gender = input('Enter your Gender male or female : ').lower()\n",
    "age = int(input('Enter your age : '))\n",
    "tenure = int(input('Enter your tenure : '))\n",
    "balance = eval(input('Enter your balance : '))\n",
    "no_of_product = int(input('Enter No of product : '))\n",
    "has_credit = input('Do you have any credit card ? yes or no : ').lower()\n",
    "is_active = input('Are you a active member ? yes or no : ').lower()\n",
    "salary = eval(input('Enter your Salary : '))\n",
    "geography = input('Enter your region france,germany or spain : ').title()"
   ]
  },
  {
   "cell_type": "code",
   "execution_count": 56,
   "id": "1cd0985f",
   "metadata": {},
   "outputs": [],
   "source": [
    "user_input = pd.DataFrame([credit_score,gender,age,\n",
    "                       tenure,balance,no_of_product,has_credit,is_active,\n",
    "                       salary,geography]).T"
   ]
  },
  {
   "cell_type": "code",
   "execution_count": 57,
   "id": "aeab3505",
   "metadata": {},
   "outputs": [],
   "source": [
    "user_input.columns = ['CreditScore', 'Gender', 'Age', 'Tenure', 'Balance', \n",
    "                                  'NumOfProducts',\n",
    "       'HasCrCard', 'IsActiveMember', 'EstimatedSalary', 'Geography']"
   ]
  },
  {
   "cell_type": "code",
   "execution_count": 58,
   "id": "9fc48e62",
   "metadata": {},
   "outputs": [
    {
     "data": {
      "text/html": [
       "<div>\n",
       "<style scoped>\n",
       "    .dataframe tbody tr th:only-of-type {\n",
       "        vertical-align: middle;\n",
       "    }\n",
       "\n",
       "    .dataframe tbody tr th {\n",
       "        vertical-align: top;\n",
       "    }\n",
       "\n",
       "    .dataframe thead th {\n",
       "        text-align: right;\n",
       "    }\n",
       "</style>\n",
       "<table border=\"1\" class=\"dataframe\">\n",
       "  <thead>\n",
       "    <tr style=\"text-align: right;\">\n",
       "      <th></th>\n",
       "      <th>CreditScore</th>\n",
       "      <th>Gender</th>\n",
       "      <th>Age</th>\n",
       "      <th>Tenure</th>\n",
       "      <th>Balance</th>\n",
       "      <th>NumOfProducts</th>\n",
       "      <th>HasCrCard</th>\n",
       "      <th>IsActiveMember</th>\n",
       "      <th>EstimatedSalary</th>\n",
       "      <th>Geography</th>\n",
       "    </tr>\n",
       "  </thead>\n",
       "  <tbody>\n",
       "    <tr>\n",
       "      <th>0</th>\n",
       "      <td>608</td>\n",
       "      <td>male</td>\n",
       "      <td>41</td>\n",
       "      <td>1</td>\n",
       "      <td>83807.86</td>\n",
       "      <td>1</td>\n",
       "      <td>no</td>\n",
       "      <td>yes</td>\n",
       "      <td>112542.58</td>\n",
       "      <td>Spain</td>\n",
       "    </tr>\n",
       "  </tbody>\n",
       "</table>\n",
       "</div>"
      ],
      "text/plain": [
       "  CreditScore Gender Age Tenure   Balance NumOfProducts HasCrCard  \\\n",
       "0         608   male  41      1  83807.86             1        no   \n",
       "\n",
       "  IsActiveMember EstimatedSalary Geography  \n",
       "0            yes       112542.58     Spain  "
      ]
     },
     "execution_count": 58,
     "metadata": {},
     "output_type": "execute_result"
    }
   ],
   "source": [
    "user_input"
   ]
  },
  {
   "cell_type": "code",
   "execution_count": 59,
   "id": "d2a92044",
   "metadata": {},
   "outputs": [],
   "source": [
    "user_input['Gender'] = user_input['Gender'].map({'male':0,'female':1})"
   ]
  },
  {
   "cell_type": "code",
   "execution_count": 60,
   "id": "152db034",
   "metadata": {},
   "outputs": [],
   "source": [
    "user_input['HasCrCard'] = user_input['HasCrCard'].map({'yes':1,'no':0})"
   ]
  },
  {
   "cell_type": "code",
   "execution_count": 61,
   "id": "4cce83ce",
   "metadata": {},
   "outputs": [],
   "source": [
    "user_input['IsActiveMember'] = user_input['IsActiveMember'].map({'yes':1,'no':0})"
   ]
  },
  {
   "cell_type": "code",
   "execution_count": 63,
   "id": "661e7f8c",
   "metadata": {},
   "outputs": [],
   "source": [
    "arr = one_hot.transform(user_input[['Geography']]).toarray()"
   ]
  },
  {
   "cell_type": "code",
   "execution_count": 65,
   "id": "727c268f",
   "metadata": {
    "scrolled": true
   },
   "outputs": [
    {
     "data": {
      "text/plain": [
       "[array(['France', 'Germany', 'Spain'], dtype=object)]"
      ]
     },
     "execution_count": 65,
     "metadata": {},
     "output_type": "execute_result"
    }
   ],
   "source": [
    "one_hot.categories_"
   ]
  },
  {
   "cell_type": "code",
   "execution_count": 66,
   "id": "25ba8dfa",
   "metadata": {},
   "outputs": [],
   "source": [
    "temp_df = pd.DataFrame(arr,columns=['France', 'Germany', 'Spain'],dtype='int')"
   ]
  },
  {
   "cell_type": "code",
   "execution_count": 68,
   "id": "74439de3",
   "metadata": {},
   "outputs": [],
   "source": [
    "user_input = pd.concat([user_input,temp_df],axis=1)"
   ]
  },
  {
   "cell_type": "code",
   "execution_count": 70,
   "id": "aeb86cab",
   "metadata": {},
   "outputs": [],
   "source": [
    "user_input.drop('Geography',axis=1,inplace=True)"
   ]
  },
  {
   "cell_type": "code",
   "execution_count": 71,
   "id": "6cac9e84",
   "metadata": {},
   "outputs": [
    {
     "data": {
      "text/html": [
       "<div>\n",
       "<style scoped>\n",
       "    .dataframe tbody tr th:only-of-type {\n",
       "        vertical-align: middle;\n",
       "    }\n",
       "\n",
       "    .dataframe tbody tr th {\n",
       "        vertical-align: top;\n",
       "    }\n",
       "\n",
       "    .dataframe thead th {\n",
       "        text-align: right;\n",
       "    }\n",
       "</style>\n",
       "<table border=\"1\" class=\"dataframe\">\n",
       "  <thead>\n",
       "    <tr style=\"text-align: right;\">\n",
       "      <th></th>\n",
       "      <th>CreditScore</th>\n",
       "      <th>Gender</th>\n",
       "      <th>Age</th>\n",
       "      <th>Tenure</th>\n",
       "      <th>Balance</th>\n",
       "      <th>NumOfProducts</th>\n",
       "      <th>HasCrCard</th>\n",
       "      <th>IsActiveMember</th>\n",
       "      <th>EstimatedSalary</th>\n",
       "      <th>France</th>\n",
       "      <th>Germany</th>\n",
       "      <th>Spain</th>\n",
       "    </tr>\n",
       "  </thead>\n",
       "  <tbody>\n",
       "    <tr>\n",
       "      <th>0</th>\n",
       "      <td>608</td>\n",
       "      <td>0</td>\n",
       "      <td>41</td>\n",
       "      <td>1</td>\n",
       "      <td>83807.86</td>\n",
       "      <td>1</td>\n",
       "      <td>0</td>\n",
       "      <td>1</td>\n",
       "      <td>112542.58</td>\n",
       "      <td>0</td>\n",
       "      <td>0</td>\n",
       "      <td>1</td>\n",
       "    </tr>\n",
       "  </tbody>\n",
       "</table>\n",
       "</div>"
      ],
      "text/plain": [
       "  CreditScore  Gender Age Tenure   Balance NumOfProducts  HasCrCard  \\\n",
       "0         608       0  41      1  83807.86             1          0   \n",
       "\n",
       "   IsActiveMember EstimatedSalary  France  Germany  Spain  \n",
       "0               1       112542.58       0        0      1  "
      ]
     },
     "execution_count": 71,
     "metadata": {},
     "output_type": "execute_result"
    }
   ],
   "source": [
    "user_input"
   ]
  },
  {
   "cell_type": "code",
   "execution_count": 73,
   "id": "bf38b759",
   "metadata": {},
   "outputs": [],
   "source": [
    "prediction = bank_model.predict(user_input)"
   ]
  },
  {
   "cell_type": "code",
   "execution_count": 74,
   "id": "e177d88b",
   "metadata": {},
   "outputs": [
    {
     "name": "stdout",
     "output_type": "stream",
     "text": [
      "The Customer will not Exited\n"
     ]
    }
   ],
   "source": [
    "if prediction[0]==0:\n",
    "    print('The Customer will not Exited')\n",
    "else:\n",
    "    print('The Customer will Exited')"
   ]
  },
  {
   "cell_type": "code",
   "execution_count": null,
   "id": "ce3e1d9b",
   "metadata": {},
   "outputs": [],
   "source": []
  }
 ],
 "metadata": {
  "kernelspec": {
   "display_name": "Python 3 (ipykernel)",
   "language": "python",
   "name": "python3"
  },
  "language_info": {
   "codemirror_mode": {
    "name": "ipython",
    "version": 3
   },
   "file_extension": ".py",
   "mimetype": "text/x-python",
   "name": "python",
   "nbconvert_exporter": "python",
   "pygments_lexer": "ipython3",
   "version": "3.9.13"
  }
 },
 "nbformat": 4,
 "nbformat_minor": 5
}
