{
 "cells": [
  {
   "cell_type": "markdown",
   "id": "063a12b2",
   "metadata": {},
   "source": [
    "# Importing Modules"
   ]
  },
  {
   "cell_type": "code",
   "execution_count": 1,
   "id": "eb6a18d7",
   "metadata": {},
   "outputs": [],
   "source": [
    "import pandas as pd\n",
    "import numpy as np\n",
    "import seaborn as sns\n",
    "import matplotlib.pyplot as plt"
   ]
  },
  {
   "cell_type": "markdown",
   "id": "8ead898e",
   "metadata": {},
   "source": [
    "## Loading the Dataset"
   ]
  },
  {
   "cell_type": "code",
   "execution_count": 2,
   "id": "fed16d1c",
   "metadata": {},
   "outputs": [],
   "source": [
    "flipkart = pd.read_csv('Flipkart Review.csv')"
   ]
  },
  {
   "cell_type": "markdown",
   "id": "3b287706",
   "metadata": {},
   "source": [
    "**Printing the first five records of our data**"
   ]
  },
  {
   "cell_type": "code",
   "execution_count": 3,
   "id": "fcd9dfec",
   "metadata": {},
   "outputs": [
    {
     "data": {
      "text/html": [
       "<div>\n",
       "<style scoped>\n",
       "    .dataframe tbody tr th:only-of-type {\n",
       "        vertical-align: middle;\n",
       "    }\n",
       "\n",
       "    .dataframe tbody tr th {\n",
       "        vertical-align: top;\n",
       "    }\n",
       "\n",
       "    .dataframe thead th {\n",
       "        text-align: right;\n",
       "    }\n",
       "</style>\n",
       "<table border=\"1\" class=\"dataframe\">\n",
       "  <thead>\n",
       "    <tr style=\"text-align: right;\">\n",
       "      <th></th>\n",
       "      <th>product_name</th>\n",
       "      <th>product_price</th>\n",
       "      <th>Rate</th>\n",
       "      <th>Review</th>\n",
       "      <th>Summary</th>\n",
       "      <th>Sentiment</th>\n",
       "    </tr>\n",
       "  </thead>\n",
       "  <tbody>\n",
       "    <tr>\n",
       "      <th>0</th>\n",
       "      <td>Candes 12 L Room/Personal Air Cooler??????(Whi...</td>\n",
       "      <td>3999</td>\n",
       "      <td>5</td>\n",
       "      <td>super!</td>\n",
       "      <td>great cooler excellent air flow and for this p...</td>\n",
       "      <td>positive</td>\n",
       "    </tr>\n",
       "    <tr>\n",
       "      <th>1</th>\n",
       "      <td>Candes 12 L Room/Personal Air Cooler??????(Whi...</td>\n",
       "      <td>3999</td>\n",
       "      <td>5</td>\n",
       "      <td>awesome</td>\n",
       "      <td>best budget 2 fit cooler nice cooling</td>\n",
       "      <td>positive</td>\n",
       "    </tr>\n",
       "    <tr>\n",
       "      <th>2</th>\n",
       "      <td>Candes 12 L Room/Personal Air Cooler??????(Whi...</td>\n",
       "      <td>3999</td>\n",
       "      <td>3</td>\n",
       "      <td>fair</td>\n",
       "      <td>the quality is good but the power of air is de...</td>\n",
       "      <td>positive</td>\n",
       "    </tr>\n",
       "    <tr>\n",
       "      <th>3</th>\n",
       "      <td>Candes 12 L Room/Personal Air Cooler??????(Whi...</td>\n",
       "      <td>3999</td>\n",
       "      <td>1</td>\n",
       "      <td>useless product</td>\n",
       "      <td>very bad product its a only a fan</td>\n",
       "      <td>negative</td>\n",
       "    </tr>\n",
       "    <tr>\n",
       "      <th>4</th>\n",
       "      <td>Candes 12 L Room/Personal Air Cooler??????(Whi...</td>\n",
       "      <td>3999</td>\n",
       "      <td>3</td>\n",
       "      <td>fair</td>\n",
       "      <td>ok ok product</td>\n",
       "      <td>neutral</td>\n",
       "    </tr>\n",
       "  </tbody>\n",
       "</table>\n",
       "</div>"
      ],
      "text/plain": [
       "                                        product_name product_price Rate  \\\n",
       "0  Candes 12 L Room/Personal Air Cooler??????(Whi...          3999    5   \n",
       "1  Candes 12 L Room/Personal Air Cooler??????(Whi...          3999    5   \n",
       "2  Candes 12 L Room/Personal Air Cooler??????(Whi...          3999    3   \n",
       "3  Candes 12 L Room/Personal Air Cooler??????(Whi...          3999    1   \n",
       "4  Candes 12 L Room/Personal Air Cooler??????(Whi...          3999    3   \n",
       "\n",
       "            Review                                            Summary  \\\n",
       "0           super!  great cooler excellent air flow and for this p...   \n",
       "1          awesome              best budget 2 fit cooler nice cooling   \n",
       "2             fair  the quality is good but the power of air is de...   \n",
       "3  useless product                  very bad product its a only a fan   \n",
       "4             fair                                      ok ok product   \n",
       "\n",
       "  Sentiment  \n",
       "0  positive  \n",
       "1  positive  \n",
       "2  positive  \n",
       "3  negative  \n",
       "4   neutral  "
      ]
     },
     "execution_count": 3,
     "metadata": {},
     "output_type": "execute_result"
    }
   ],
   "source": [
    "flipkart.head()"
   ]
  },
  {
   "cell_type": "markdown",
   "id": "fa3eaff0",
   "metadata": {},
   "source": [
    "**Checking the null values and information of the data** "
   ]
  },
  {
   "cell_type": "code",
   "execution_count": 4,
   "id": "40cdae3c",
   "metadata": {},
   "outputs": [
    {
     "name": "stdout",
     "output_type": "stream",
     "text": [
      "<class 'pandas.core.frame.DataFrame'>\n",
      "RangeIndex: 205052 entries, 0 to 205051\n",
      "Data columns (total 6 columns):\n",
      " #   Column         Non-Null Count   Dtype \n",
      "---  ------         --------------   ----- \n",
      " 0   product_name   205052 non-null  object\n",
      " 1   product_price  205052 non-null  object\n",
      " 2   Rate           205052 non-null  object\n",
      " 3   Review         180388 non-null  object\n",
      " 4   Summary        205041 non-null  object\n",
      " 5   Sentiment      205052 non-null  object\n",
      "dtypes: object(6)\n",
      "memory usage: 9.4+ MB\n"
     ]
    }
   ],
   "source": [
    "flipkart.info()"
   ]
  },
  {
   "cell_type": "code",
   "execution_count": 5,
   "id": "6bb1260d",
   "metadata": {},
   "outputs": [
    {
     "data": {
      "text/plain": [
       "product_name         0\n",
       "product_price        0\n",
       "Rate                 0\n",
       "Review           24664\n",
       "Summary             11\n",
       "Sentiment            0\n",
       "dtype: int64"
      ]
     },
     "execution_count": 5,
     "metadata": {},
     "output_type": "execute_result"
    }
   ],
   "source": [
    "flipkart.isnull().sum()"
   ]
  },
  {
   "cell_type": "markdown",
   "id": "c7cbbc9a",
   "metadata": {},
   "source": [
    "## Revoming the Null values form our data"
   ]
  },
  {
   "cell_type": "code",
   "execution_count": 6,
   "id": "c58cb25e",
   "metadata": {},
   "outputs": [],
   "source": [
    "flipkart.dropna(inplace=True)\n",
    "flipkart.reset_index(drop=True,inplace=True)"
   ]
  },
  {
   "cell_type": "markdown",
   "id": "d995dd02",
   "metadata": {},
   "source": [
    "## Droping product name and price"
   ]
  },
  {
   "cell_type": "code",
   "execution_count": 7,
   "id": "a2e2de5e",
   "metadata": {},
   "outputs": [],
   "source": [
    "flipkart.drop(['product_name','product_price'],axis=1,inplace=True)"
   ]
  },
  {
   "cell_type": "code",
   "execution_count": 8,
   "id": "bbfe5962",
   "metadata": {},
   "outputs": [
    {
     "data": {
      "text/html": [
       "<div>\n",
       "<style scoped>\n",
       "    .dataframe tbody tr th:only-of-type {\n",
       "        vertical-align: middle;\n",
       "    }\n",
       "\n",
       "    .dataframe tbody tr th {\n",
       "        vertical-align: top;\n",
       "    }\n",
       "\n",
       "    .dataframe thead th {\n",
       "        text-align: right;\n",
       "    }\n",
       "</style>\n",
       "<table border=\"1\" class=\"dataframe\">\n",
       "  <thead>\n",
       "    <tr style=\"text-align: right;\">\n",
       "      <th></th>\n",
       "      <th>Rate</th>\n",
       "      <th>Review</th>\n",
       "      <th>Summary</th>\n",
       "      <th>Sentiment</th>\n",
       "    </tr>\n",
       "  </thead>\n",
       "  <tbody>\n",
       "    <tr>\n",
       "      <th>0</th>\n",
       "      <td>5</td>\n",
       "      <td>super!</td>\n",
       "      <td>great cooler excellent air flow and for this p...</td>\n",
       "      <td>positive</td>\n",
       "    </tr>\n",
       "    <tr>\n",
       "      <th>1</th>\n",
       "      <td>5</td>\n",
       "      <td>awesome</td>\n",
       "      <td>best budget 2 fit cooler nice cooling</td>\n",
       "      <td>positive</td>\n",
       "    </tr>\n",
       "    <tr>\n",
       "      <th>2</th>\n",
       "      <td>3</td>\n",
       "      <td>fair</td>\n",
       "      <td>the quality is good but the power of air is de...</td>\n",
       "      <td>positive</td>\n",
       "    </tr>\n",
       "    <tr>\n",
       "      <th>3</th>\n",
       "      <td>1</td>\n",
       "      <td>useless product</td>\n",
       "      <td>very bad product its a only a fan</td>\n",
       "      <td>negative</td>\n",
       "    </tr>\n",
       "    <tr>\n",
       "      <th>4</th>\n",
       "      <td>3</td>\n",
       "      <td>fair</td>\n",
       "      <td>ok ok product</td>\n",
       "      <td>neutral</td>\n",
       "    </tr>\n",
       "  </tbody>\n",
       "</table>\n",
       "</div>"
      ],
      "text/plain": [
       "  Rate           Review                                            Summary  \\\n",
       "0    5           super!  great cooler excellent air flow and for this p...   \n",
       "1    5          awesome              best budget 2 fit cooler nice cooling   \n",
       "2    3             fair  the quality is good but the power of air is de...   \n",
       "3    1  useless product                  very bad product its a only a fan   \n",
       "4    3             fair                                      ok ok product   \n",
       "\n",
       "  Sentiment  \n",
       "0  positive  \n",
       "1  positive  \n",
       "2  positive  \n",
       "3  negative  \n",
       "4   neutral  "
      ]
     },
     "execution_count": 8,
     "metadata": {},
     "output_type": "execute_result"
    }
   ],
   "source": [
    "flipkart.head()"
   ]
  },
  {
   "cell_type": "markdown",
   "id": "3bdbfdee",
   "metadata": {},
   "source": [
    "## Checking the no of reviews in our dataset"
   ]
  },
  {
   "cell_type": "code",
   "execution_count": 9,
   "id": "270f0a40",
   "metadata": {},
   "outputs": [
    {
     "data": {
      "image/png": "[encoded data removed]",
      "text/plain": [
       "<Figure size 1300x700 with 1 Axes>"
      ]
     },
     "metadata": {},
     "output_type": "display_data"
    }
   ],
   "source": [
    "plt.figure(figsize=(13,7))\n",
    "sns.countplot(data=flipkart,x='Sentiment')\n",
    "plt.title('No of Reviews',size=20)\n",
    "plt.show()"
   ]
  },
  {
   "cell_type": "code",
   "execution_count": 10,
   "id": "4f451e32",
   "metadata": {},
   "outputs": [
    {
     "data": {
      "text/html": [
       "<div>\n",
       "<style scoped>\n",
       "    .dataframe tbody tr th:only-of-type {\n",
       "        vertical-align: middle;\n",
       "    }\n",
       "\n",
       "    .dataframe tbody tr th {\n",
       "        vertical-align: top;\n",
       "    }\n",
       "\n",
       "    .dataframe thead th {\n",
       "        text-align: right;\n",
       "    }\n",
       "</style>\n",
       "<table border=\"1\" class=\"dataframe\">\n",
       "  <thead>\n",
       "    <tr style=\"text-align: right;\">\n",
       "      <th></th>\n",
       "      <th>Rate</th>\n",
       "      <th>Review</th>\n",
       "      <th>Summary</th>\n",
       "      <th>Sentiment</th>\n",
       "    </tr>\n",
       "  </thead>\n",
       "  <tbody>\n",
       "    <tr>\n",
       "      <th>0</th>\n",
       "      <td>5</td>\n",
       "      <td>super!</td>\n",
       "      <td>great cooler excellent air flow and for this p...</td>\n",
       "      <td>positive</td>\n",
       "    </tr>\n",
       "    <tr>\n",
       "      <th>1</th>\n",
       "      <td>5</td>\n",
       "      <td>awesome</td>\n",
       "      <td>best budget 2 fit cooler nice cooling</td>\n",
       "      <td>positive</td>\n",
       "    </tr>\n",
       "    <tr>\n",
       "      <th>2</th>\n",
       "      <td>3</td>\n",
       "      <td>fair</td>\n",
       "      <td>the quality is good but the power of air is de...</td>\n",
       "      <td>positive</td>\n",
       "    </tr>\n",
       "    <tr>\n",
       "      <th>3</th>\n",
       "      <td>1</td>\n",
       "      <td>useless product</td>\n",
       "      <td>very bad product its a only a fan</td>\n",
       "      <td>negative</td>\n",
       "    </tr>\n",
       "    <tr>\n",
       "      <th>4</th>\n",
       "      <td>3</td>\n",
       "      <td>fair</td>\n",
       "      <td>ok ok product</td>\n",
       "      <td>neutral</td>\n",
       "    </tr>\n",
       "  </tbody>\n",
       "</table>\n",
       "</div>"
      ],
      "text/plain": [
       "  Rate           Review                                            Summary  \\\n",
       "0    5           super!  great cooler excellent air flow and for this p...   \n",
       "1    5          awesome              best budget 2 fit cooler nice cooling   \n",
       "2    3             fair  the quality is good but the power of air is de...   \n",
       "3    1  useless product                  very bad product its a only a fan   \n",
       "4    3             fair                                      ok ok product   \n",
       "\n",
       "  Sentiment  \n",
       "0  positive  \n",
       "1  positive  \n",
       "2  positive  \n",
       "3  negative  \n",
       "4   neutral  "
      ]
     },
     "execution_count": 10,
     "metadata": {},
     "output_type": "execute_result"
    }
   ],
   "source": [
    "flipkart.head()"
   ]
  },
  {
   "cell_type": "markdown",
   "id": "e02945d4",
   "metadata": {},
   "source": [
    "### Removing space from the Review column\n",
    "\n",
    "**This is because we don't want to treat for example 'useless' and 'product' as two \n",
    "separate words.**"
   ]
  },
  {
   "cell_type": "code",
   "execution_count": 11,
   "id": "55820582",
   "metadata": {},
   "outputs": [],
   "source": [
    "flipkart['Review'] = flipkart['Review'].apply(lambda review: review.replace(' ',''))"
   ]
  },
  {
   "cell_type": "markdown",
   "id": "26b92dd2",
   "metadata": {},
   "source": [
    "## Converting Rate, Review and Summary into list form to concat"
   ]
  },
  {
   "cell_type": "code",
   "execution_count": 12,
   "id": "daa94d4d",
   "metadata": {},
   "outputs": [],
   "source": [
    "flipkart['Rate'] = flipkart['Rate'].apply(lambda rate: [rate])"
   ]
  },
  {
   "cell_type": "code",
   "execution_count": 13,
   "id": "a867dfe0",
   "metadata": {},
   "outputs": [],
   "source": [
    "flipkart['Review'] = flipkart['Review'].apply(lambda review: [review])"
   ]
  },
  {
   "cell_type": "code",
   "execution_count": 14,
   "id": "68ac005e",
   "metadata": {},
   "outputs": [],
   "source": [
    "flipkart['Summary'] = flipkart['Summary'].apply(lambda summary: summary.split())"
   ]
  },
  {
   "cell_type": "code",
   "execution_count": 15,
   "id": "bffd856a",
   "metadata": {},
   "outputs": [
    {
     "data": {
      "text/html": [
       "<div>\n",
       "<style scoped>\n",
       "    .dataframe tbody tr th:only-of-type {\n",
       "        vertical-align: middle;\n",
       "    }\n",
       "\n",
       "    .dataframe tbody tr th {\n",
       "        vertical-align: top;\n",
       "    }\n",
       "\n",
       "    .dataframe thead th {\n",
       "        text-align: right;\n",
       "    }\n",
       "</style>\n",
       "<table border=\"1\" class=\"dataframe\">\n",
       "  <thead>\n",
       "    <tr style=\"text-align: right;\">\n",
       "      <th></th>\n",
       "      <th>Rate</th>\n",
       "      <th>Review</th>\n",
       "      <th>Summary</th>\n",
       "      <th>Sentiment</th>\n",
       "    </tr>\n",
       "  </thead>\n",
       "  <tbody>\n",
       "    <tr>\n",
       "      <th>0</th>\n",
       "      <td>[5]</td>\n",
       "      <td>[super!]</td>\n",
       "      <td>[great, cooler, excellent, air, flow, and, for...</td>\n",
       "      <td>positive</td>\n",
       "    </tr>\n",
       "    <tr>\n",
       "      <th>1</th>\n",
       "      <td>[5]</td>\n",
       "      <td>[awesome]</td>\n",
       "      <td>[best, budget, 2, fit, cooler, nice, cooling]</td>\n",
       "      <td>positive</td>\n",
       "    </tr>\n",
       "    <tr>\n",
       "      <th>2</th>\n",
       "      <td>[3]</td>\n",
       "      <td>[fair]</td>\n",
       "      <td>[the, quality, is, good, but, the, power, of, ...</td>\n",
       "      <td>positive</td>\n",
       "    </tr>\n",
       "    <tr>\n",
       "      <th>3</th>\n",
       "      <td>[1]</td>\n",
       "      <td>[uselessproduct]</td>\n",
       "      <td>[very, bad, product, its, a, only, a, fan]</td>\n",
       "      <td>negative</td>\n",
       "    </tr>\n",
       "    <tr>\n",
       "      <th>4</th>\n",
       "      <td>[3]</td>\n",
       "      <td>[fair]</td>\n",
       "      <td>[ok, ok, product]</td>\n",
       "      <td>neutral</td>\n",
       "    </tr>\n",
       "  </tbody>\n",
       "</table>\n",
       "</div>"
      ],
      "text/plain": [
       "  Rate            Review                                            Summary  \\\n",
       "0  [5]          [super!]  [great, cooler, excellent, air, flow, and, for...   \n",
       "1  [5]         [awesome]      [best, budget, 2, fit, cooler, nice, cooling]   \n",
       "2  [3]            [fair]  [the, quality, is, good, but, the, power, of, ...   \n",
       "3  [1]  [uselessproduct]         [very, bad, product, its, a, only, a, fan]   \n",
       "4  [3]            [fair]                                  [ok, ok, product]   \n",
       "\n",
       "  Sentiment  \n",
       "0  positive  \n",
       "1  positive  \n",
       "2  positive  \n",
       "3  negative  \n",
       "4   neutral  "
      ]
     },
     "execution_count": 15,
     "metadata": {},
     "output_type": "execute_result"
    }
   ],
   "source": [
    "flipkart.head()"
   ]
  },
  {
   "cell_type": "markdown",
   "id": "045ba0b8",
   "metadata": {},
   "source": [
    "## Making Tag column from Rate, Review and Summary"
   ]
  },
  {
   "cell_type": "code",
   "execution_count": 16,
   "id": "8ac388de",
   "metadata": {},
   "outputs": [],
   "source": [
    "flipkart['Tag'] = flipkart['Rate'] + flipkart['Review'] + flipkart['Summary']"
   ]
  },
  {
   "cell_type": "code",
   "execution_count": 17,
   "id": "8371ece4",
   "metadata": {},
   "outputs": [
    {
     "data": {
      "text/html": [
       "<div>\n",
       "<style scoped>\n",
       "    .dataframe tbody tr th:only-of-type {\n",
       "        vertical-align: middle;\n",
       "    }\n",
       "\n",
       "    .dataframe tbody tr th {\n",
       "        vertical-align: top;\n",
       "    }\n",
       "\n",
       "    .dataframe thead th {\n",
       "        text-align: right;\n",
       "    }\n",
       "</style>\n",
       "<table border=\"1\" class=\"dataframe\">\n",
       "  <thead>\n",
       "    <tr style=\"text-align: right;\">\n",
       "      <th></th>\n",
       "      <th>Rate</th>\n",
       "      <th>Review</th>\n",
       "      <th>Summary</th>\n",
       "      <th>Sentiment</th>\n",
       "      <th>Tag</th>\n",
       "    </tr>\n",
       "  </thead>\n",
       "  <tbody>\n",
       "    <tr>\n",
       "      <th>0</th>\n",
       "      <td>[5]</td>\n",
       "      <td>[super!]</td>\n",
       "      <td>[great, cooler, excellent, air, flow, and, for...</td>\n",
       "      <td>positive</td>\n",
       "      <td>[5, super!, great, cooler, excellent, air, flo...</td>\n",
       "    </tr>\n",
       "    <tr>\n",
       "      <th>1</th>\n",
       "      <td>[5]</td>\n",
       "      <td>[awesome]</td>\n",
       "      <td>[best, budget, 2, fit, cooler, nice, cooling]</td>\n",
       "      <td>positive</td>\n",
       "      <td>[5, awesome, best, budget, 2, fit, cooler, nic...</td>\n",
       "    </tr>\n",
       "    <tr>\n",
       "      <th>2</th>\n",
       "      <td>[3]</td>\n",
       "      <td>[fair]</td>\n",
       "      <td>[the, quality, is, good, but, the, power, of, ...</td>\n",
       "      <td>positive</td>\n",
       "      <td>[3, fair, the, quality, is, good, but, the, po...</td>\n",
       "    </tr>\n",
       "    <tr>\n",
       "      <th>3</th>\n",
       "      <td>[1]</td>\n",
       "      <td>[uselessproduct]</td>\n",
       "      <td>[very, bad, product, its, a, only, a, fan]</td>\n",
       "      <td>negative</td>\n",
       "      <td>[1, uselessproduct, very, bad, product, its, a...</td>\n",
       "    </tr>\n",
       "    <tr>\n",
       "      <th>4</th>\n",
       "      <td>[3]</td>\n",
       "      <td>[fair]</td>\n",
       "      <td>[ok, ok, product]</td>\n",
       "      <td>neutral</td>\n",
       "      <td>[3, fair, ok, ok, product]</td>\n",
       "    </tr>\n",
       "  </tbody>\n",
       "</table>\n",
       "</div>"
      ],
      "text/plain": [
       "  Rate            Review                                            Summary  \\\n",
       "0  [5]          [super!]  [great, cooler, excellent, air, flow, and, for...   \n",
       "1  [5]         [awesome]      [best, budget, 2, fit, cooler, nice, cooling]   \n",
       "2  [3]            [fair]  [the, quality, is, good, but, the, power, of, ...   \n",
       "3  [1]  [uselessproduct]         [very, bad, product, its, a, only, a, fan]   \n",
       "4  [3]            [fair]                                  [ok, ok, product]   \n",
       "\n",
       "  Sentiment                                                Tag  \n",
       "0  positive  [5, super!, great, cooler, excellent, air, flo...  \n",
       "1  positive  [5, awesome, best, budget, 2, fit, cooler, nic...  \n",
       "2  positive  [3, fair, the, quality, is, good, but, the, po...  \n",
       "3  negative  [1, uselessproduct, very, bad, product, its, a...  \n",
       "4   neutral                         [3, fair, ok, ok, product]  "
      ]
     },
     "execution_count": 17,
     "metadata": {},
     "output_type": "execute_result"
    }
   ],
   "source": [
    "flipkart.head()"
   ]
  },
  {
   "cell_type": "markdown",
   "id": "9085ce44",
   "metadata": {},
   "source": [
    "## Making a dataset from Tag and Sentiment"
   ]
  },
  {
   "cell_type": "code",
   "execution_count": 18,
   "id": "1d235ce8",
   "metadata": {},
   "outputs": [],
   "source": [
    "flipkart_tag = flipkart[['Tag','Sentiment']]"
   ]
  },
  {
   "cell_type": "code",
   "execution_count": 19,
   "id": "5f10a7b1",
   "metadata": {},
   "outputs": [
    {
     "data": {
      "text/html": [
       "<div>\n",
       "<style scoped>\n",
       "    .dataframe tbody tr th:only-of-type {\n",
       "        vertical-align: middle;\n",
       "    }\n",
       "\n",
       "    .dataframe tbody tr th {\n",
       "        vertical-align: top;\n",
       "    }\n",
       "\n",
       "    .dataframe thead th {\n",
       "        text-align: right;\n",
       "    }\n",
       "</style>\n",
       "<table border=\"1\" class=\"dataframe\">\n",
       "  <thead>\n",
       "    <tr style=\"text-align: right;\">\n",
       "      <th></th>\n",
       "      <th>Tag</th>\n",
       "      <th>Sentiment</th>\n",
       "    </tr>\n",
       "  </thead>\n",
       "  <tbody>\n",
       "    <tr>\n",
       "      <th>0</th>\n",
       "      <td>[5, super!, great, cooler, excellent, air, flo...</td>\n",
       "      <td>positive</td>\n",
       "    </tr>\n",
       "    <tr>\n",
       "      <th>1</th>\n",
       "      <td>[5, awesome, best, budget, 2, fit, cooler, nic...</td>\n",
       "      <td>positive</td>\n",
       "    </tr>\n",
       "    <tr>\n",
       "      <th>2</th>\n",
       "      <td>[3, fair, the, quality, is, good, but, the, po...</td>\n",
       "      <td>positive</td>\n",
       "    </tr>\n",
       "    <tr>\n",
       "      <th>3</th>\n",
       "      <td>[1, uselessproduct, very, bad, product, its, a...</td>\n",
       "      <td>negative</td>\n",
       "    </tr>\n",
       "    <tr>\n",
       "      <th>4</th>\n",
       "      <td>[3, fair, ok, ok, product]</td>\n",
       "      <td>neutral</td>\n",
       "    </tr>\n",
       "  </tbody>\n",
       "</table>\n",
       "</div>"
      ],
      "text/plain": [
       "                                                 Tag Sentiment\n",
       "0  [5, super!, great, cooler, excellent, air, flo...  positive\n",
       "1  [5, awesome, best, budget, 2, fit, cooler, nic...  positive\n",
       "2  [3, fair, the, quality, is, good, but, the, po...  positive\n",
       "3  [1, uselessproduct, very, bad, product, its, a...  negative\n",
       "4                         [3, fair, ok, ok, product]   neutral"
      ]
     },
     "execution_count": 19,
     "metadata": {},
     "output_type": "execute_result"
    }
   ],
   "source": [
    "flipkart_tag.head()"
   ]
  },
  {
   "cell_type": "markdown",
   "id": "028b15a3",
   "metadata": {},
   "source": [
    "## Applying Stemming on Tag for removing the forms of verb"
   ]
  },
  {
   "cell_type": "code",
   "execution_count": 20,
   "id": "bd98004d",
   "metadata": {},
   "outputs": [],
   "source": [
    "from nltk.stem.porter import PorterStemmer\n",
    "\n",
    "porter_stem = PorterStemmer()"
   ]
  },
  {
   "cell_type": "code",
   "execution_count": 21,
   "id": "f79c8fa1",
   "metadata": {},
   "outputs": [
    {
     "data": {
      "text/plain": [
       "'love'"
      ]
     },
     "execution_count": 21,
     "metadata": {},
     "output_type": "execute_result"
    }
   ],
   "source": [
    "porter_stem.stem('Loving')"
   ]
  },
  {
   "cell_type": "code",
   "execution_count": 22,
   "id": "f483b01d",
   "metadata": {},
   "outputs": [],
   "source": [
    "def tag_stemming(words):\n",
    "    temp = []\n",
    "    for word in words:\n",
    "        stemmed_word = porter_stem.stem(word)\n",
    "        temp.append(stemmed_word)\n",
    "    return temp"
   ]
  },
  {
   "cell_type": "code",
   "execution_count": 23,
   "id": "04f8007c",
   "metadata": {},
   "outputs": [
    {
     "name": "stderr",
     "output_type": "stream",
     "text": [
      "C:\\Users\\Sukh-e\\AppData\\Local\\Temp\\ipykernel_13892\\224202097.py:1: SettingWithCopyWarning: \n",
      "A value is trying to be set on a copy of a slice from a DataFrame.\n",
      "Try using .loc[row_indexer,col_indexer] = value instead\n",
      "\n",
      "See the caveats in the documentation: https://pandas.pydata.org/pandas-docs/stable/user_guide/indexing.html#returning-a-view-versus-a-copy\n",
      "  flipkart_tag['Tag'] = flipkart_tag['Tag'].apply(tag_stemming)\n"
     ]
    }
   ],
   "source": [
    "flipkart_tag['Tag'] = flipkart_tag['Tag'].apply(tag_stemming)"
   ]
  },
  {
   "cell_type": "markdown",
   "id": "cec7e67e",
   "metadata": {},
   "source": [
    "**Converting our Tag column into a string form**"
   ]
  },
  {
   "cell_type": "code",
   "execution_count": 24,
   "id": "e0f66550",
   "metadata": {},
   "outputs": [
    {
     "name": "stderr",
     "output_type": "stream",
     "text": [
      "C:\\Users\\Sukh-e\\AppData\\Local\\Temp\\ipykernel_13892\\1500086179.py:1: SettingWithCopyWarning: \n",
      "A value is trying to be set on a copy of a slice from a DataFrame.\n",
      "Try using .loc[row_indexer,col_indexer] = value instead\n",
      "\n",
      "See the caveats in the documentation: https://pandas.pydata.org/pandas-docs/stable/user_guide/indexing.html#returning-a-view-versus-a-copy\n",
      "  flipkart_tag['Tag'] = flipkart_tag['Tag'].apply(lambda tag: ' '.join(tag))\n"
     ]
    }
   ],
   "source": [
    "flipkart_tag['Tag'] = flipkart_tag['Tag'].apply(lambda tag: ' '.join(tag))"
   ]
  },
  {
   "cell_type": "code",
   "execution_count": 25,
   "id": "535cce25",
   "metadata": {},
   "outputs": [
    {
     "data": {
      "text/html": [
       "<div>\n",
       "<style scoped>\n",
       "    .dataframe tbody tr th:only-of-type {\n",
       "        vertical-align: middle;\n",
       "    }\n",
       "\n",
       "    .dataframe tbody tr th {\n",
       "        vertical-align: top;\n",
       "    }\n",
       "\n",
       "    .dataframe thead th {\n",
       "        text-align: right;\n",
       "    }\n",
       "</style>\n",
       "<table border=\"1\" class=\"dataframe\">\n",
       "  <thead>\n",
       "    <tr style=\"text-align: right;\">\n",
       "      <th></th>\n",
       "      <th>Tag</th>\n",
       "      <th>Sentiment</th>\n",
       "    </tr>\n",
       "  </thead>\n",
       "  <tbody>\n",
       "    <tr>\n",
       "      <th>0</th>\n",
       "      <td>5 super! great cooler excel air flow and for t...</td>\n",
       "      <td>positive</td>\n",
       "    </tr>\n",
       "    <tr>\n",
       "      <th>1</th>\n",
       "      <td>5 awesom best budget 2 fit cooler nice cool</td>\n",
       "      <td>positive</td>\n",
       "    </tr>\n",
       "    <tr>\n",
       "      <th>2</th>\n",
       "      <td>3 fair the qualiti is good but the power of ai...</td>\n",
       "      <td>positive</td>\n",
       "    </tr>\n",
       "    <tr>\n",
       "      <th>3</th>\n",
       "      <td>1 uselessproduct veri bad product it a onli a fan</td>\n",
       "      <td>negative</td>\n",
       "    </tr>\n",
       "    <tr>\n",
       "      <th>4</th>\n",
       "      <td>3 fair ok ok product</td>\n",
       "      <td>neutral</td>\n",
       "    </tr>\n",
       "  </tbody>\n",
       "</table>\n",
       "</div>"
      ],
      "text/plain": [
       "                                                 Tag Sentiment\n",
       "0  5 super! great cooler excel air flow and for t...  positive\n",
       "1        5 awesom best budget 2 fit cooler nice cool  positive\n",
       "2  3 fair the qualiti is good but the power of ai...  positive\n",
       "3  1 uselessproduct veri bad product it a onli a fan  negative\n",
       "4                               3 fair ok ok product   neutral"
      ]
     },
     "execution_count": 25,
     "metadata": {},
     "output_type": "execute_result"
    }
   ],
   "source": [
    "flipkart_tag.head()"
   ]
  },
  {
   "cell_type": "code",
   "execution_count": null,
   "id": "13dda9a0",
   "metadata": {},
   "outputs": [],
   "source": []
  }
 ],
 "metadata": {
  "kernelspec": {
   "display_name": "Python 3 (ipykernel)",
   "language": "python",
   "name": "python3"
  },
  "language_info": {
   "codemirror_mode": {
    "name": "ipython",
    "version": 3
   },
   "file_extension": ".py",
   "mimetype": "text/x-python",
   "name": "python",
   "nbconvert_exporter": "python",
   "pygments_lexer": "ipython3",
   "version": "3.9.13"
  }
 },
 "nbformat": 4,
 "nbformat_minor": 5
}
