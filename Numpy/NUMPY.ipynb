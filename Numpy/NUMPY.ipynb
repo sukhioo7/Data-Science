{
  "nbformat": 4,
  "nbformat_minor": 0,
  "metadata": {
    "colab": {
      "provenance": []
    },
    "kernelspec": {
      "name": "python3",
      "display_name": "Python 3"
    },
    "language_info": {
      "name": "python"
    }
  },
  "cells": [
    {
      "cell_type": "markdown",
      "source": [
        "# Importing NumPy"
      ],
      "metadata": {
        "id": "rWgvqcTcJ5Vb"
      }
    },
    {
      "cell_type": "code",
      "execution_count": null,
      "metadata": {
        "id": "5tYiKNDcIfiq"
      },
      "outputs": [],
      "source": [
        "import numpy as np"
      ]
    },
    {
      "cell_type": "markdown",
      "source": [
        "Methods to create array"
      ],
      "metadata": {
        "id": "i_pVCNjGJ_Xj"
      }
    },
    {
      "cell_type": "code",
      "source": [
        "arr = np.array([12,24,78,90,100.78])\n",
        "arr"
      ],
      "metadata": {
        "colab": {
          "base_uri": "https://localhost:8080/"
        },
        "id": "GTLQ8cLEJ-nJ",
        "outputId": "5fe22818-064d-4b1d-c7ee-bdb2439b117b"
      },
      "execution_count": null,
      "outputs": [
        {
          "output_type": "execute_result",
          "data": {
            "text/plain": [
              "array([ 12.  ,  24.  ,  78.  ,  90.  , 100.78])"
            ]
          },
          "metadata": {},
          "execution_count": 2
        }
      ]
    },
    {
      "cell_type": "code",
      "source": [
        "lst = [29,79,34,1234,325]\n",
        "arr = np.array(lst)\n",
        "arr"
      ],
      "metadata": {
        "colab": {
          "base_uri": "https://localhost:8080/"
        },
        "id": "RzXSGKRcKpbc",
        "outputId": "824cc509-7145-41de-f5f1-1c5e048fb0ca"
      },
      "execution_count": null,
      "outputs": [
        {
          "output_type": "execute_result",
          "data": {
            "text/plain": [
              "array([  29,   79,   34, 1234,  325])"
            ]
          },
          "metadata": {},
          "execution_count": 22
        }
      ]
    },
    {
      "cell_type": "markdown",
      "source": [
        "Array indexing same as list [start:end:step]"
      ],
      "metadata": {
        "id": "PKilLejlLpXN"
      }
    },
    {
      "cell_type": "code",
      "source": [
        "arr[1]"
      ],
      "metadata": {
        "colab": {
          "base_uri": "https://localhost:8080/"
        },
        "id": "B9YHxsxFLJRl",
        "outputId": "1e72f743-96c9-4d65-b536-9eb12ab218ac"
      },
      "execution_count": null,
      "outputs": [
        {
          "output_type": "execute_result",
          "data": {
            "text/plain": [
              "79"
            ]
          },
          "metadata": {},
          "execution_count": 23
        }
      ]
    },
    {
      "cell_type": "markdown",
      "source": [
        "To check shape of array"
      ],
      "metadata": {
        "id": "kXlwrf2jMUNK"
      }
    },
    {
      "cell_type": "code",
      "source": [
        "arr.shape"
      ],
      "metadata": {
        "colab": {
          "base_uri": "https://localhost:8080/"
        },
        "id": "_AppHHDlMKh9",
        "outputId": "3c60f0d4-041c-40be-b2cd-1361765c0347"
      },
      "execution_count": null,
      "outputs": [
        {
          "output_type": "execute_result",
          "data": {
            "text/plain": [
              "(5,)"
            ]
          },
          "metadata": {},
          "execution_count": 5
        }
      ]
    },
    {
      "cell_type": "markdown",
      "source": [
        "2D array"
      ],
      "metadata": {
        "id": "v3BjdSjcMixE"
      }
    },
    {
      "cell_type": "code",
      "source": [
        "lst = [[1,2,3,4],[5,6,7,8]]\n",
        "\n",
        "arr_2d = np.array(lst)\n",
        "arr_2d"
      ],
      "metadata": {
        "colab": {
          "base_uri": "https://localhost:8080/"
        },
        "id": "hb4k6xItMliZ",
        "outputId": "512efe02-4366-4dab-cea8-83836cc8596a"
      },
      "execution_count": null,
      "outputs": [
        {
          "output_type": "execute_result",
          "data": {
            "text/plain": [
              "array([[1, 2, 3, 4],\n",
              "       [5, 6, 7, 8]])"
            ]
          },
          "metadata": {},
          "execution_count": 6
        }
      ]
    },
    {
      "cell_type": "code",
      "source": [
        "arr_2d = np.array([[1,2,3,4],[5,6,7,8]])\n",
        "arr_2d"
      ],
      "metadata": {
        "colab": {
          "base_uri": "https://localhost:8080/"
        },
        "id": "KsEt3EUqNQL6",
        "outputId": "4ceea3f9-50e1-4f38-d4ab-38e468ceadc2"
      },
      "execution_count": null,
      "outputs": [
        {
          "output_type": "execute_result",
          "data": {
            "text/plain": [
              "array([[1, 2, 3, 4],\n",
              "       [5, 6, 7, 8]])"
            ]
          },
          "metadata": {},
          "execution_count": 7
        }
      ]
    },
    {
      "cell_type": "code",
      "source": [
        "arr_2d.shape"
      ],
      "metadata": {
        "colab": {
          "base_uri": "https://localhost:8080/"
        },
        "id": "S5C6UAuuNcE3",
        "outputId": "ac5f91e2-6fd5-4a18-f2cb-2b371d8861ba"
      },
      "execution_count": null,
      "outputs": [
        {
          "output_type": "execute_result",
          "data": {
            "text/plain": [
              "(2, 4)"
            ]
          },
          "metadata": {},
          "execution_count": 8
        }
      ]
    },
    {
      "cell_type": "code",
      "source": [
        "arr_2d.T"
      ],
      "metadata": {
        "colab": {
          "base_uri": "https://localhost:8080/"
        },
        "id": "W7NzElxYPve1",
        "outputId": "181f2a1b-8c70-456c-98e4-3148d565fb11"
      },
      "execution_count": null,
      "outputs": [
        {
          "output_type": "execute_result",
          "data": {
            "text/plain": [
              "array([[1, 5],\n",
              "       [2, 6],\n",
              "       [3, 7],\n",
              "       [4, 8]])"
            ]
          },
          "metadata": {},
          "execution_count": 9
        }
      ]
    },
    {
      "cell_type": "markdown",
      "source": [
        "# Indexing and Slicing\n"
      ],
      "metadata": {
        "id": "qNIr9DXhMfg8"
      }
    },
    {
      "cell_type": "code",
      "source": [
        "lst = [[20, 21, 22, 23, 24, 25],\n",
        "       [26, 27, 28, 29, 30, 31],\n",
        "       [32, 33, 34, 35, 36, 37],\n",
        "       [38, 39, 40, 41, 42, 43],\n",
        "       [44, 45, 46, 47, 48, 49]]\n",
        "\n",
        "\n",
        "arr = np.array(lst)\n",
        "arr"
      ],
      "metadata": {
        "colab": {
          "base_uri": "https://localhost:8080/"
        },
        "id": "6EK0fCVZOZsq",
        "outputId": "14e5c3c4-71e5-4d36-b525-722eb48f0e72"
      },
      "execution_count": null,
      "outputs": [
        {
          "output_type": "execute_result",
          "data": {
            "text/plain": [
              "array([[20, 21, 22, 23, 24, 25],\n",
              "       [26, 27, 28, 29, 30, 31],\n",
              "       [32, 33, 34, 35, 36, 37],\n",
              "       [38, 39, 40, 41, 42, 43],\n",
              "       [44, 45, 46, 47, 48, 49]])"
            ]
          },
          "metadata": {},
          "execution_count": 56
        }
      ]
    },
    {
      "cell_type": "code",
      "source": [
        "# arr[1::2,1:3]\n",
        "\n",
        "# arr[0:3,1::3]\n",
        "\n",
        "arr[::2,-1]"
      ],
      "metadata": {
        "colab": {
          "base_uri": "https://localhost:8080/"
        },
        "id": "LI7Ki-HLMcxn",
        "outputId": "d6d50bb5-4237-4a36-fe5e-ed9bd3a9be77"
      },
      "execution_count": null,
      "outputs": [
        {
          "output_type": "execute_result",
          "data": {
            "text/plain": [
              "array([25, 37, 49])"
            ]
          },
          "metadata": {},
          "execution_count": 46
        }
      ]
    },
    {
      "cell_type": "markdown",
      "source": [
        "Views in Array"
      ],
      "metadata": {
        "id": "HouZg9qUUfAj"
      }
    },
    {
      "cell_type": "code",
      "source": [
        "arr"
      ],
      "metadata": {
        "colab": {
          "base_uri": "https://localhost:8080/"
        },
        "id": "9ZeycdxMU7kN",
        "outputId": "657e2fd6-bec9-46d2-9430-a8fda6935b80"
      },
      "execution_count": null,
      "outputs": [
        {
          "output_type": "execute_result",
          "data": {
            "text/plain": [
              "array([[20, 21, 22, 23, 24, 25],\n",
              "       [26, 27, 28, 29, 30, 31],\n",
              "       [32, 33, 34, 35, 36, 37],\n",
              "       [38, 39, 40, 41, 42, 43],\n",
              "       [44, 45, 46, 47, 48, 49]])"
            ]
          },
          "metadata": {},
          "execution_count": 61
        }
      ]
    },
    {
      "cell_type": "code",
      "source": [
        "sub_arr = arr[1:5,1:5].copy()"
      ],
      "metadata": {
        "id": "Lv0LXxS-Uh_D"
      },
      "execution_count": null,
      "outputs": []
    },
    {
      "cell_type": "code",
      "source": [
        "sub_arr[1,2] = 5000"
      ],
      "metadata": {
        "id": "XRNib6f5Urg5"
      },
      "execution_count": null,
      "outputs": []
    },
    {
      "cell_type": "code",
      "source": [
        "sub_arr"
      ],
      "metadata": {
        "colab": {
          "base_uri": "https://localhost:8080/"
        },
        "id": "4KMRFLT3U0lf",
        "outputId": "60169966-a7c8-4cb5-f257-66ca255fcf03"
      },
      "execution_count": null,
      "outputs": [
        {
          "output_type": "execute_result",
          "data": {
            "text/plain": [
              "array([[  27,   28,   29,   30],\n",
              "       [  33,   34, 5000,   36],\n",
              "       [  39,   40,   41,   42],\n",
              "       [  45,   46,   47,   48]])"
            ]
          },
          "metadata": {},
          "execution_count": 60
        }
      ]
    },
    {
      "cell_type": "markdown",
      "source": [
        "Array Operations"
      ],
      "metadata": {
        "id": "z18ecI8XWgMf"
      }
    },
    {
      "cell_type": "code",
      "source": [
        "mini_arr1 = np.array([2,3,4,5,6,7])\n",
        "mini_arr2 = np.array([7,6,5,4,3,2])\n"
      ],
      "metadata": {
        "colab": {
          "base_uri": "https://localhost:8080/"
        },
        "id": "Lq284O4_Wa-3",
        "outputId": "f8666f0c-4082-4d64-a2b6-23263c4899c6"
      },
      "execution_count": null,
      "outputs": [
        {
          "output_type": "stream",
          "name": "stdout",
          "text": [
            "[ 4  9 16 25 36 49]\n"
          ]
        },
        {
          "output_type": "execute_result",
          "data": {
            "text/plain": [
              "array([49, 36, 25, 16,  9,  4])"
            ]
          },
          "metadata": {},
          "execution_count": 66
        }
      ]
    },
    {
      "cell_type": "code",
      "source": [
        "mini_arr1 * 2\n",
        "mini_arr1**3\n",
        "mini_arr1/2"
      ],
      "metadata": {
        "colab": {
          "base_uri": "https://localhost:8080/"
        },
        "id": "BD6FO04mWtwy",
        "outputId": "974910bc-63be-40e5-df2c-1c8c934bac91"
      },
      "execution_count": null,
      "outputs": [
        {
          "output_type": "execute_result",
          "data": {
            "text/plain": [
              "array([1. , 1.5, 2. , 2.5, 3. , 3.5])"
            ]
          },
          "metadata": {},
          "execution_count": 67
        }
      ]
    },
    {
      "cell_type": "code",
      "source": [
        "mini_arr1 - mini_arr2"
      ],
      "metadata": {
        "colab": {
          "base_uri": "https://localhost:8080/"
        },
        "id": "PrthIhspYV_y",
        "outputId": "ebb262d0-f041-4e28-9fa9-0b06aa5fe393"
      },
      "execution_count": null,
      "outputs": [
        {
          "output_type": "execute_result",
          "data": {
            "text/plain": [
              "array([-5, -3, -1,  1,  3,  5])"
            ]
          },
          "metadata": {},
          "execution_count": 70
        }
      ]
    },
    {
      "cell_type": "markdown",
      "source": [
        "# Array Mehtods"
      ],
      "metadata": {
        "id": "zbZPhd5HY5aH"
      }
    },
    {
      "cell_type": "code",
      "source": [
        "np.zeros(10,dtype='int')"
      ],
      "metadata": {
        "colab": {
          "base_uri": "https://localhost:8080/"
        },
        "id": "AVKBP4XBVSkc",
        "outputId": "2c04d9d6-845e-4141-e529-61fbb2b6115a"
      },
      "execution_count": null,
      "outputs": [
        {
          "output_type": "execute_result",
          "data": {
            "text/plain": [
              "array([0, 0, 0, 0, 0, 0, 0, 0, 0, 0])"
            ]
          },
          "metadata": {},
          "execution_count": 6
        }
      ]
    },
    {
      "cell_type": "code",
      "source": [
        "arr = np.ones(10,dtype='int')\n",
        "arr"
      ],
      "metadata": {
        "colab": {
          "base_uri": "https://localhost:8080/"
        },
        "id": "R7RV6AwyY48T",
        "outputId": "7a1fe7a6-bd82-4059-c1f4-faaf87fcd62e"
      },
      "execution_count": null,
      "outputs": [
        {
          "output_type": "execute_result",
          "data": {
            "text/plain": [
              "array([1, 1, 1, 1, 1, 1, 1, 1, 1, 1])"
            ]
          },
          "metadata": {},
          "execution_count": 8
        }
      ]
    },
    {
      "cell_type": "code",
      "source": [
        "np.eye(5,dtype='int')\n",
        "\n",
        "# or\n",
        "\n",
        "# np.identity(10)"
      ],
      "metadata": {
        "colab": {
          "base_uri": "https://localhost:8080/"
        },
        "id": "pKRzOhytVtR5",
        "outputId": "873a978b-61ec-4cec-c630-d85637c50e6c"
      },
      "execution_count": null,
      "outputs": [
        {
          "output_type": "execute_result",
          "data": {
            "text/plain": [
              "array([[1, 0, 0, 0, 0],\n",
              "       [0, 1, 0, 0, 0],\n",
              "       [0, 0, 1, 0, 0],\n",
              "       [0, 0, 0, 1, 0],\n",
              "       [0, 0, 0, 0, 1]])"
            ]
          },
          "metadata": {},
          "execution_count": 13
        }
      ]
    },
    {
      "cell_type": "code",
      "source": [
        "np.diag([2,4,6,8,10])"
      ],
      "metadata": {
        "colab": {
          "base_uri": "https://localhost:8080/"
        },
        "id": "2P-KPQ4QWS-4",
        "outputId": "61a49778-f7d7-4194-f875-1e8fe5d5fb31"
      },
      "execution_count": null,
      "outputs": [
        {
          "output_type": "execute_result",
          "data": {
            "text/plain": [
              "array([[ 2,  0,  0,  0,  0],\n",
              "       [ 0,  4,  0,  0,  0],\n",
              "       [ 0,  0,  6,  0,  0],\n",
              "       [ 0,  0,  0,  8,  0],\n",
              "       [ 0,  0,  0,  0, 10]])"
            ]
          },
          "metadata": {},
          "execution_count": 14
        }
      ]
    },
    {
      "cell_type": "code",
      "source": [
        "np.arange(1,11,2)\n",
        "np.arange(1,11)"
      ],
      "metadata": {
        "colab": {
          "base_uri": "https://localhost:8080/"
        },
        "id": "ApAOHMtWWeZq",
        "outputId": "f32c4e1e-ecd4-4bed-cb7b-c9a797715849"
      },
      "execution_count": null,
      "outputs": [
        {
          "output_type": "execute_result",
          "data": {
            "text/plain": [
              "array([ 1,  2,  3,  4,  5,  6,  7,  8,  9, 10])"
            ]
          },
          "metadata": {},
          "execution_count": 17
        }
      ]
    },
    {
      "cell_type": "code",
      "source": [
        "arr = np.arange(1,11)\n",
        "arr.reshape((2,5))"
      ],
      "metadata": {
        "colab": {
          "base_uri": "https://localhost:8080/"
        },
        "id": "BnwZCTyOWtQg",
        "outputId": "f44eeb39-2526-4ef4-b791-270abeea4dff"
      },
      "execution_count": null,
      "outputs": [
        {
          "output_type": "execute_result",
          "data": {
            "text/plain": [
              "array([[ 1,  2,  3,  4,  5],\n",
              "       [ 6,  7,  8,  9, 10]])"
            ]
          },
          "metadata": {},
          "execution_count": 20
        }
      ]
    },
    {
      "cell_type": "code",
      "source": [
        "np.linspace(1,20,10)"
      ],
      "metadata": {
        "colab": {
          "base_uri": "https://localhost:8080/"
        },
        "id": "SpTDL3S1XRRu",
        "outputId": "314409ba-d30b-4d30-e255-51942916711f"
      },
      "execution_count": null,
      "outputs": [
        {
          "output_type": "execute_result",
          "data": {
            "text/plain": [
              "array([ 1.        ,  3.11111111,  5.22222222,  7.33333333,  9.44444444,\n",
              "       11.55555556, 13.66666667, 15.77777778, 17.88888889, 20.        ])"
            ]
          },
          "metadata": {},
          "execution_count": 25
        }
      ]
    },
    {
      "cell_type": "code",
      "source": [
        "arr"
      ],
      "metadata": {
        "colab": {
          "base_uri": "https://localhost:8080/"
        },
        "id": "W-ri2lV5X-OQ",
        "outputId": "318c7d47-2000-45a2-ba9e-ada4ebd98be8"
      },
      "execution_count": null,
      "outputs": [
        {
          "output_type": "execute_result",
          "data": {
            "text/plain": [
              "array([ 1,  2,  3,  4,  5,  6,  7,  8,  9, 10])"
            ]
          },
          "metadata": {},
          "execution_count": 26
        }
      ]
    },
    {
      "cell_type": "code",
      "source": [
        "np.random.rand(4)"
      ],
      "metadata": {
        "colab": {
          "base_uri": "https://localhost:8080/"
        },
        "id": "z8Ok2t-LYc2-",
        "outputId": "dc57842f-cbf7-45e2-888a-88fa379607e4"
      },
      "execution_count": null,
      "outputs": [
        {
          "output_type": "execute_result",
          "data": {
            "text/plain": [
              "array([0.37409821, 0.93089181, 0.12420082, 0.92008863])"
            ]
          },
          "metadata": {},
          "execution_count": 32
        }
      ]
    },
    {
      "cell_type": "code",
      "source": [
        "np.random.randn(6)"
      ],
      "metadata": {
        "colab": {
          "base_uri": "https://localhost:8080/"
        },
        "id": "3Ze9zP98Ys74",
        "outputId": "86fdacae-d6fd-47d1-8cac-c9bed629788f"
      },
      "execution_count": null,
      "outputs": [
        {
          "output_type": "execute_result",
          "data": {
            "text/plain": [
              "array([-5.78146539e-04,  9.21025499e-01,  1.35042784e+00, -5.10928292e-03,\n",
              "       -2.45703507e-02,  2.84543176e-01])"
            ]
          },
          "metadata": {},
          "execution_count": 34
        }
      ]
    },
    {
      "cell_type": "code",
      "source": [
        "np.random.randint(20,50,20)"
      ],
      "metadata": {
        "colab": {
          "base_uri": "https://localhost:8080/"
        },
        "id": "5FgUyPcFbhz8",
        "outputId": "61986a04-ac91-42a0-f6eb-3c4209f1cc17"
      },
      "execution_count": null,
      "outputs": [
        {
          "output_type": "execute_result",
          "data": {
            "text/plain": [
              "array([37, 20, 42, 36, 41, 26, 24, 29, 33, 24, 27, 34, 49, 29, 33, 38, 31,\n",
              "       32, 30, 39])"
            ]
          },
          "metadata": {},
          "execution_count": 50
        }
      ]
    },
    {
      "cell_type": "code",
      "source": [
        "arr = np.random.randint(20,50,20)"
      ],
      "metadata": {
        "id": "wGKSVoIvZG76"
      },
      "execution_count": null,
      "outputs": []
    },
    {
      "cell_type": "code",
      "source": [
        "arr_2d = np.random.randint(20,50,20).reshape((5,4))\n",
        "arr_2d"
      ],
      "metadata": {
        "colab": {
          "base_uri": "https://localhost:8080/"
        },
        "id": "W4aJ4qHBZkBs",
        "outputId": "9451a1b2-c030-45f9-d59d-a221939912d5"
      },
      "execution_count": null,
      "outputs": [
        {
          "output_type": "execute_result",
          "data": {
            "text/plain": [
              "array([[39, 46, 31, 34],\n",
              "       [35, 37, 28, 23],\n",
              "       [25, 22, 35, 44],\n",
              "       [24, 49, 43, 34],\n",
              "       [26, 31, 32, 27]])"
            ]
          },
          "metadata": {},
          "execution_count": 51
        }
      ]
    },
    {
      "cell_type": "code",
      "source": [
        "arr_2d.min(axis=1)"
      ],
      "metadata": {
        "colab": {
          "base_uri": "https://localhost:8080/"
        },
        "id": "VDSHtMUPYBAQ",
        "outputId": "acb42c69-9e45-4497-cf0a-72f472d9a314"
      },
      "execution_count": null,
      "outputs": [
        {
          "output_type": "execute_result",
          "data": {
            "text/plain": [
              "array([31, 23, 22, 24, 26])"
            ]
          },
          "metadata": {},
          "execution_count": 52
        }
      ]
    },
    {
      "cell_type": "code",
      "source": [
        "arr_2d.max()"
      ],
      "metadata": {
        "colab": {
          "base_uri": "https://localhost:8080/"
        },
        "id": "sPOG_O2WYHNe",
        "outputId": "58f48efd-d829-428d-ea69-5da9b26f44c0"
      },
      "execution_count": null,
      "outputs": [
        {
          "output_type": "execute_result",
          "data": {
            "text/plain": [
              "49"
            ]
          },
          "metadata": {},
          "execution_count": 53
        }
      ]
    },
    {
      "cell_type": "code",
      "source": [
        "arr_2d.argmin()"
      ],
      "metadata": {
        "colab": {
          "base_uri": "https://localhost:8080/"
        },
        "id": "ssTM9cr_YJ5l",
        "outputId": "5a5b1756-a14a-44eb-a3eb-331b63b6decf"
      },
      "execution_count": null,
      "outputs": [
        {
          "output_type": "execute_result",
          "data": {
            "text/plain": [
              "9"
            ]
          },
          "metadata": {},
          "execution_count": 54
        }
      ]
    },
    {
      "cell_type": "code",
      "source": [
        "arr_2d.argmax()"
      ],
      "metadata": {
        "colab": {
          "base_uri": "https://localhost:8080/"
        },
        "id": "9eY8_WhSYQIC",
        "outputId": "5ee86c9c-755b-4a18-9aae-350c03c8aafb"
      },
      "execution_count": null,
      "outputs": [
        {
          "output_type": "execute_result",
          "data": {
            "text/plain": [
              "13"
            ]
          },
          "metadata": {},
          "execution_count": 55
        }
      ]
    },
    {
      "cell_type": "code",
      "source": [
        "arr.sum()"
      ],
      "metadata": {
        "colab": {
          "base_uri": "https://localhost:8080/"
        },
        "id": "Et_sKhosbUId",
        "outputId": "32ae9ac9-9456-4981-a5e5-137903a728a8"
      },
      "execution_count": null,
      "outputs": [
        {
          "output_type": "execute_result",
          "data": {
            "text/plain": [
              "779"
            ]
          },
          "metadata": {},
          "execution_count": 57
        }
      ]
    },
    {
      "cell_type": "code",
      "source": [
        "arr.mean()"
      ],
      "metadata": {
        "colab": {
          "base_uri": "https://localhost:8080/"
        },
        "id": "LoAYIvTtblg_",
        "outputId": "97435423-abd7-49e2-926f-c4976f1d1c77"
      },
      "execution_count": null,
      "outputs": [
        {
          "output_type": "execute_result",
          "data": {
            "text/plain": [
              "38.95"
            ]
          },
          "metadata": {},
          "execution_count": 58
        }
      ]
    },
    {
      "cell_type": "code",
      "source": [
        "np.median(arr)"
      ],
      "metadata": {
        "colab": {
          "base_uri": "https://localhost:8080/"
        },
        "id": "_SBaovEFbse4",
        "outputId": "d27aa413-d123-46cb-e52e-0e6811c6337d"
      },
      "execution_count": null,
      "outputs": [
        {
          "output_type": "execute_result",
          "data": {
            "text/plain": [
              "41.0"
            ]
          },
          "metadata": {},
          "execution_count": 60
        }
      ]
    },
    {
      "cell_type": "code",
      "source": [
        "arr_2d.sum(axis=1)"
      ],
      "metadata": {
        "colab": {
          "base_uri": "https://localhost:8080/"
        },
        "id": "7vsHl5VDcIhP",
        "outputId": "e637fbd7-833c-4e50-903c-aaa25e60e161"
      },
      "execution_count": null,
      "outputs": [
        {
          "output_type": "execute_result",
          "data": {
            "text/plain": [
              "array([150, 123, 126, 150, 116])"
            ]
          },
          "metadata": {},
          "execution_count": 64
        }
      ]
    },
    {
      "cell_type": "code",
      "source": [
        "arr_2d.mean(axis=0)"
      ],
      "metadata": {
        "colab": {
          "base_uri": "https://localhost:8080/"
        },
        "id": "dIJX346QcSLn",
        "outputId": "cf99607d-8682-47bd-86e4-e2fdaf302448"
      },
      "execution_count": null,
      "outputs": [
        {
          "output_type": "execute_result",
          "data": {
            "text/plain": [
              "array([29.8, 37. , 33.8, 32.4])"
            ]
          },
          "metadata": {},
          "execution_count": 65
        }
      ]
    },
    {
      "cell_type": "code",
      "source": [
        "np.sqrt(arr)"
      ],
      "metadata": {
        "colab": {
          "base_uri": "https://localhost:8080/"
        },
        "id": "wewxhwYfca1-",
        "outputId": "c65b8b37-86d8-4ab9-cc52-73ce6030e25a"
      },
      "execution_count": null,
      "outputs": [
        {
          "output_type": "execute_result",
          "data": {
            "text/plain": [
              "array([6.08276253, 4.89897949, 5.74456265, 6.8556546 , 6.244998  ,\n",
              "       5.83095189, 6.55743852, 6.78232998, 6.92820323, 5.19615242,\n",
              "       5.56776436, 6.70820393, 5.83095189, 4.79583152, 6.92820323,\n",
              "       6.08276253, 6.70820393, 6.8556546 , 6.70820393, 6.78232998])"
            ]
          },
          "metadata": {},
          "execution_count": 66
        }
      ]
    },
    {
      "cell_type": "code",
      "source": [
        "np.std(arr)"
      ],
      "metadata": {
        "colab": {
          "base_uri": "https://localhost:8080/"
        },
        "id": "i1WrsjhJcjfd",
        "outputId": "2f8c8028-7654-48df-b8f9-6f205125a2f7"
      },
      "execution_count": null,
      "outputs": [
        {
          "output_type": "execute_result",
          "data": {
            "text/plain": [
              "8.046583125774568"
            ]
          },
          "metadata": {},
          "execution_count": 67
        }
      ]
    },
    {
      "cell_type": "code",
      "source": [
        "arr.astype('float')"
      ],
      "metadata": {
        "colab": {
          "base_uri": "https://localhost:8080/"
        },
        "id": "5HJn7Ezrc2u-",
        "outputId": "e3da667d-cf66-4f5c-c879-28626ff4acca"
      },
      "execution_count": null,
      "outputs": [
        {
          "output_type": "execute_result",
          "data": {
            "text/plain": [
              "array([37., 24., 33., 47., 39., 34., 43., 46., 48., 27., 31., 45., 34.,\n",
              "       23., 48., 37., 45., 47., 45., 46.])"
            ]
          },
          "metadata": {},
          "execution_count": 69
        }
      ]
    },
    {
      "cell_type": "markdown",
      "source": [
        "github.com/sukhioo7/test"
      ],
      "metadata": {
        "id": "EpIgI3RbdKEG"
      }
    }
  ]
}