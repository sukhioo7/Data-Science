{
 "cells": [
  {
   "cell_type": "markdown",
   "id": "0afb427d-decc-493e-af9d-3f37b7c527e2",
   "metadata": {},
   "source": [
    "# Importing Modules"
   ]
  },
  {
   "cell_type": "code",
   "execution_count": 1,
   "id": "39bf615a-5eb5-418a-b41b-132c8d51e567",
   "metadata": {},
   "outputs": [],
   "source": [
    "import numpy as np\n",
    "import tensorflow as tf\n",
    "from tensorflow.keras.preprocessing.image import ImageDataGenerator\n",
    "import matplotlib.pyplot as plt"
   ]
  },
  {
   "cell_type": "markdown",
   "id": "c9044172-c6d9-40a4-b1e3-5330f2526775",
   "metadata": {},
   "source": [
    "## Making Training Dataset with the help of Image Data Generator class"
   ]
  },
  {
   "cell_type": "markdown",
   "id": "c7582d66-aa1d-48d8-bfcc-f7a2ad4cc94a",
   "metadata": {},
   "source": [
    "**Appyling some Data Augmentation for better training our model**"
   ]
  },
  {
   "cell_type": "code",
   "execution_count": 2,
   "id": "ab78e924-cb28-4f50-ab8b-0819be035651",
   "metadata": {},
   "outputs": [],
   "source": [
    "training_gen = ImageDataGenerator(horizontal_flip=True,vertical_flip=True,rotation_range=20,rescale=1/255)"
   ]
  },
  {
   "cell_type": "code",
   "execution_count": 3,
   "id": "d65d43b1-8b71-4869-8b10-95c21545c33f",
   "metadata": {},
   "outputs": [
    {
     "name": "stdout",
     "output_type": "stream",
     "text": [
      "Found 10000 images belonging to 2 classes.\n"
     ]
    }
   ],
   "source": [
    "training_data = training_gen.flow_from_directory('Face Mask Dataset\\Train',target_size=(150,150),class_mode='categorical')"
   ]
  },
  {
   "cell_type": "markdown",
   "id": "8e9fee9d-1058-4d74-b53d-474aa783c359",
   "metadata": {},
   "source": [
    "## Making Testing Dataset with the help of Image Data Generator class"
   ]
  },
  {
   "cell_type": "code",
   "execution_count": 4,
   "id": "ab9ca9d1-8219-4564-b20b-6ba126a304b7",
   "metadata": {},
   "outputs": [],
   "source": [
    "testing_gen = ImageDataGenerator(horizontal_flip=True,vertical_flip=True,rotation_range=20,rescale=1/255)"
   ]
  },
  {
   "cell_type": "code",
   "execution_count": 5,
   "id": "c93cbc6a-ce9c-43d3-8ce3-e2cce5e85284",
   "metadata": {},
   "outputs": [
    {
     "name": "stdout",
     "output_type": "stream",
     "text": [
      "Found 993 images belonging to 2 classes.\n"
     ]
    }
   ],
   "source": [
    "testing_data = testing_gen.flow_from_directory('Face Mask Dataset\\Test',target_size=(150,150),class_mode='categorical')"
   ]
  },
  {
   "cell_type": "markdown",
   "id": "4e9cb961-60a9-4b3a-a696-668ac565a6fd",
   "metadata": {},
   "source": [
    "# Building CNN Layers for Feature Extraction"
   ]
  },
  {
   "cell_type": "code",
   "execution_count": 6,
   "id": "6cb7f970-dcb3-4f76-acbc-c59829b82742",
   "metadata": {},
   "outputs": [],
   "source": [
    "mask_model = tf.keras.models.Sequential()\n",
    "\n",
    "\n",
    "mask_model.add(tf.keras.layers.Conv2D(12,(6,6),activation='relu',input_shape=(150,150,3)))\n",
    "\n",
    "mask_model.add(tf.keras.layers.Conv2D(30,(3,3),activation='relu'))\n",
    "mask_model.add(tf.keras.layers.MaxPool2D((2,2)))\n",
    "mask_model.add(tf.keras.layers.Conv2D(64,(3,3),activation='relu'))\n",
    "mask_model.add(tf.keras.layers.MaxPool2D((2,2)))\n"
   ]
  },
  {
   "cell_type": "markdown",
   "id": "aaaa0cbf-fd0d-440a-bcfe-ba39dffe353f",
   "metadata": {},
   "source": [
    "### Flatting Our Image"
   ]
  },
  {
   "cell_type": "code",
   "execution_count": null,
   "id": "2029a0ce-249a-4bcc-bfe2-078414215f22",
   "metadata": {},
   "outputs": [],
   "source": [
    "mask_model.add(tf.keras.layers.Flatten())"
   ]
  },
  {
   "cell_type": "markdown",
   "id": "a99c1982-9a65-4be3-8564-53cd4efe55ea",
   "metadata": {},
   "source": [
    "# Giving to ANN"
   ]
  },
  {
   "cell_type": "code",
   "execution_count": 7,
   "id": "88514078-ab02-4cdb-89f9-8a5430041740",
   "metadata": {},
   "outputs": [],
   "source": [
    "mask_model.add(tf.keras.layers.Dense(units=128, activation = 'relu'))\n",
    "mask_model.add(tf.keras.layers.Dropout(0.5))\n",
    "\n",
    "mask_model.add(tf.keras.layers.Dense(units=64, activation = 'relu'))\n",
    "\n",
    "mask_model.add(tf.keras.layers.Dense(units=64, activation = 'relu'))\n",
    "mask_model.add(tf.keras.layers.Dropout(0.5))\n",
    "\n",
    "mask_model.add(tf.keras.layers.Dense(2, activation = \"softmax\"))"
   ]
  },
  {
   "cell_type": "code",
   "execution_count": 8,
   "id": "3584d4bd-93d9-45c3-b118-ba348b171d51",
   "metadata": {},
   "outputs": [],
   "source": [
    "mask_model.compile(optimizer='adam',loss='categorical_crossentropy',metrics=['accuracy'])"
   ]
  },
  {
   "cell_type": "code",
   "execution_count": 9,
   "id": "873b2289-03c4-4e39-b129-1d8d1caa345a",
   "metadata": {},
   "outputs": [
    {
     "name": "stdout",
     "output_type": "stream",
     "text": [
      "Model: \"sequential\"\n",
      "_________________________________________________________________\n",
      " Layer (type)                Output Shape              Param #   \n",
      "=================================================================\n",
      " conv2d (Conv2D)             (None, 145, 145, 12)      1308      \n",
      "                                                                 \n",
      " conv2d_1 (Conv2D)           (None, 143, 143, 30)      3270      \n",
      "                                                                 \n",
      " max_pooling2d (MaxPooling2D  (None, 71, 71, 30)       0         \n",
      " )                                                               \n",
      "                                                                 \n",
      " conv2d_2 (Conv2D)           (None, 69, 69, 64)        17344     \n",
      "                                                                 \n",
      " max_pooling2d_1 (MaxPooling  (None, 34, 34, 64)       0         \n",
      " 2D)                                                             \n",
      "                                                                 \n",
      " flatten (Flatten)           (None, 73984)             0         \n",
      "                                                                 \n",
      " dense (Dense)               (None, 128)               9470080   \n",
      "                                                                 \n",
      " dropout (Dropout)           (None, 128)               0         \n",
      "                                                                 \n",
      " dense_1 (Dense)             (None, 64)                8256      \n",
      "                                                                 \n",
      " dense_2 (Dense)             (None, 64)                4160      \n",
      "                                                                 \n",
      " dropout_1 (Dropout)         (None, 64)                0         \n",
      "                                                                 \n",
      " dense_3 (Dense)             (None, 2)                 130       \n",
      "                                                                 \n",
      "=================================================================\n",
      "Total params: 9,504,548\n",
      "Trainable params: 9,504,548\n",
      "Non-trainable params: 0\n",
      "_________________________________________________________________\n"
     ]
    }
   ],
   "source": [
    "mask_model.summary()"
   ]
  },
  {
   "cell_type": "markdown",
   "id": "3b238de4-05f9-4d05-8f72-28e6f969c800",
   "metadata": {},
   "source": [
    "# Training Our model"
   ]
  },
  {
   "cell_type": "code",
   "execution_count": 10,
   "id": "e236a38c-7731-4ce0-9673-247fd8957922",
   "metadata": {},
   "outputs": [
    {
     "name": "stdout",
     "output_type": "stream",
     "text": [
      "Epoch 1/12\n",
      "313/313 [==============================] - 46s 133ms/step - loss: 0.3700 - accuracy: 0.8487 - val_loss: 0.2548 - val_accuracy: 0.8953\n",
      "Epoch 2/12\n",
      "313/313 [==============================] - 41s 131ms/step - loss: 0.2262 - accuracy: 0.9177 - val_loss: 0.1943 - val_accuracy: 0.9315\n",
      "Epoch 3/12\n",
      "313/313 [==============================] - 43s 136ms/step - loss: 0.1824 - accuracy: 0.9322 - val_loss: 0.1572 - val_accuracy: 0.9476\n",
      "Epoch 4/12\n",
      "313/313 [==============================] - 43s 136ms/step - loss: 0.1468 - accuracy: 0.9485 - val_loss: 0.1528 - val_accuracy: 0.9476\n",
      "Epoch 5/12\n",
      "313/313 [==============================] - 39s 125ms/step - loss: 0.1272 - accuracy: 0.9535 - val_loss: 0.1227 - val_accuracy: 0.9597\n",
      "Epoch 6/12\n",
      "313/313 [==============================] - 39s 123ms/step - loss: 0.1057 - accuracy: 0.9619 - val_loss: 0.1344 - val_accuracy: 0.9617\n",
      "Epoch 7/12\n",
      "313/313 [==============================] - 39s 124ms/step - loss: 0.0939 - accuracy: 0.9674 - val_loss: 0.1078 - val_accuracy: 0.9658\n",
      "Epoch 8/12\n",
      "313/313 [==============================] - 39s 124ms/step - loss: 0.1106 - accuracy: 0.9592 - val_loss: 0.1198 - val_accuracy: 0.9597\n",
      "Epoch 9/12\n",
      "313/313 [==============================] - 39s 125ms/step - loss: 0.0866 - accuracy: 0.9697 - val_loss: 0.1180 - val_accuracy: 0.9698\n",
      "Epoch 10/12\n",
      "313/313 [==============================] - 40s 127ms/step - loss: 0.0931 - accuracy: 0.9691 - val_loss: 0.1016 - val_accuracy: 0.9708\n",
      "Epoch 11/12\n",
      "313/313 [==============================] - 41s 130ms/step - loss: 0.0762 - accuracy: 0.9720 - val_loss: 0.1330 - val_accuracy: 0.9617\n",
      "Epoch 12/12\n",
      "313/313 [==============================] - 41s 130ms/step - loss: 0.0673 - accuracy: 0.9745 - val_loss: 0.0943 - val_accuracy: 0.9728\n"
     ]
    },
    {
     "data": {
      "text/plain": [
       "<keras.callbacks.History at 0x17c386a5090>"
      ]
     },
     "execution_count": 10,
     "metadata": {},
     "output_type": "execute_result"
    }
   ],
   "source": [
    "mask_model.fit(training_data,validation_data=testing_data,epochs=12)"
   ]
  },
  {
   "cell_type": "markdown",
   "id": "cf3c05c6-9e63-43ce-a40c-ff17f5943030",
   "metadata": {},
   "source": [
    "## Storing the model's history"
   ]
  },
  {
   "cell_type": "code",
   "execution_count": 11,
   "id": "973f3203-19ed-4fcc-aae2-15c954559fc5",
   "metadata": {},
   "outputs": [],
   "source": [
    "report = mask_model.history.history"
   ]
  },
  {
   "cell_type": "markdown",
   "id": "4022f7b3-ea96-4e0d-86b1-e158f7e00629",
   "metadata": {},
   "source": [
    "## Ploting the losses of model"
   ]
  },
  {
   "cell_type": "code",
   "execution_count": 12,
   "id": "e2476766-1b41-4d31-b072-2605c6158e51",
   "metadata": {},
   "outputs": [
    {
     "data": {
      "image/png": "[encoded data removed]",
      "text/plain": [
       "<Figure size 1300x700 with 1 Axes>"
      ]
     },
     "metadata": {},
     "output_type": "display_data"
    }
   ],
   "source": [
    "plt.figure(figsize=(13,7))\n",
    "plt.plot(range(1,13),report['loss'],label='Training')\n",
    "plt.plot(range(1,13),report['val_loss'],label='Testing')\n",
    "plt.legend()\n",
    "plt.title('Model Performance',size=20)\n",
    "plt.xlabel('No of Epochs')\n",
    "plt.ylabel('Loss')\n",
    "plt.show()"
   ]
  },
  {
   "cell_type": "markdown",
   "id": "11a56f1d-194f-4263-b0f7-c088f08a2e43",
   "metadata": {},
   "source": [
    "## Saving Our model"
   ]
  },
  {
   "cell_type": "code",
   "execution_count": 13,
   "id": "1e1bf35e-5130-40fd-8549-45cce7ff5909",
   "metadata": {},
   "outputs": [],
   "source": [
    "tf.keras.models.save_model(mask_model,'Face Detection Model (new).h5')"
   ]
  },
  {
   "cell_type": "code",
   "execution_count": null,
   "id": "5c6a72f6-3a15-45a2-9c1c-24c5f293925e",
   "metadata": {},
   "outputs": [],
   "source": []
  }
 ],
 "metadata": {
  "kernelspec": {
   "display_name": "Python [conda env:gpu_DL]",
   "language": "python",
   "name": "conda-env-gpu_DL-py"
  },
  "language_info": {
   "codemirror_mode": {
    "name": "ipython",
    "version": 3
   },
   "file_extension": ".py",
   "mimetype": "text/x-python",
   "name": "python",
   "nbconvert_exporter": "python",
   "pygments_lexer": "ipython3",
   "version": "3.10.14"
  }
 },
 "nbformat": 4,
 "nbformat_minor": 5
}
